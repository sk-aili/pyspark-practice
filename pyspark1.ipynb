{
  "cells": [
    {
      "cell_type": "markdown",
      "metadata": {
        "id": "uNHjuBCB3iyp"
      },
      "source": [
        "#**Skill: PySpark**\n",
        "If your agenda is one of the following, please follow along this notebook to learn PySpark skill:\n",
        "- Want to learn PySpark? \n",
        "- Have a huge dataset and want to do analysis to extract insights from it?\n",
        "- Want to become a Data Engineer?\n",
        "\n",
        "**Background**:   \n",
        "[PySpark](https://spark.apache.org/docs/latest/api/python/) is an interface for Apache Spark in Python. It not only allows you to write Spark applications using Python APIs, but also provides the PySpark shell for interactively analyzing your data in a distributed environment. PySpark supports most of Spark’s features such as Spark SQL, DataFrame, Streaming, MLlib (Machine Learning) and Spark Core.    \n",
        "\n",
        "In this notebook, we will try to answer few questions to learn PySpark. Let's practice!"
      ]
    },
    {
      "cell_type": "markdown",
      "metadata": {
        "id": "bIJLj_NN-UjQ"
      },
      "source": [
        "![Unknown.png](data:image/png;base64,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)"
      ]
    },
    {
      "cell_type": "markdown",
      "metadata": {
        "id": "LyZvuF_M-LC5"
      },
      "source": [
        "Install PySpark in this colab notebook"
      ]
    },
    {
      "cell_type": "code",
      "execution_count": null,
      "metadata": {
        "id": "XL2XLn_bYHQK"
      },
      "outputs": [],
      "source": [
        "!pip install pyspark"
      ]
    },
    {
      "cell_type": "markdown",
      "metadata": {
        "id": "Ys4cXtScUBUZ"
      },
      "source": [
        "## Introduction\n",
        "[Apache Spark](https://sparkbyexamples.com/pyspark/what-is-pyspark-and-who-uses-it/) is an open-source framework written in Scala for processing large datasets in a distributed manner (in a cluster). Spark runs 100 times faster than traditional processing due to its in-memory processing. PySpark is a Python API for Apache Spark to process larger datasets in a distributed cluster. It is written in Python to run a Python application using Apache Spark capabilities. \n",
        "\n",
        "[The entry point](https://spark.apache.org/docs/latest/sql-getting-started.html) into all functionality in Spark is the SparkSession class. To create a basic SparkSession, just use SparkSession.builder. "
      ]
    },
    {
      "cell_type": "code",
      "execution_count": 1,
      "metadata": {
        "id": "P34iAK1CYS8z"
      },
      "outputs": [
        {
          "name": "stdout",
          "output_type": "stream",
          "text": [
            "23/02/02 15:35:08 WARN Utils: Your hostname, codespaces-53d0de resolves to a loopback address: 127.0.0.1; using 172.16.5.4 instead (on interface eth0)\n",
            "23/02/02 15:35:08 WARN Utils: Set SPARK_LOCAL_IP if you need to bind to another address\n"
          ]
        },
        {
          "name": "stderr",
          "output_type": "stream",
          "text": [
            "Setting default log level to \"WARN\".\n",
            "To adjust logging level use sc.setLogLevel(newLevel). For SparkR, use setLogLevel(newLevel).\n"
          ]
        },
        {
          "name": "stdout",
          "output_type": "stream",
          "text": [
            "23/02/02 15:35:10 WARN NativeCodeLoader: Unable to load native-hadoop library for your platform... using builtin-java classes where applicable\n",
            "23/02/02 15:35:11 WARN Utils: Service 'SparkUI' could not bind on port 4040. Attempting port 4041.\n"
          ]
        }
      ],
      "source": [
        "from pyspark.sql import SparkSession\n",
        "spark = SparkSession.builder.getOrCreate()"
      ]
    },
    {
      "cell_type": "markdown",
      "metadata": {
        "id": "ZH2OeR_pYX1B"
      },
      "source": [
        "\n",
        "\n",
        "---\n"
      ]
    },
    {
      "cell_type": "markdown",
      "metadata": {
        "id": "5_oqRCsNbCvK"
      },
      "source": [
        "**Question 1:\tRead csv data from this link http://cran-logs.rstudio.com/2022/2022-12-19-r.csv.gz . Print the dataset:    \n",
        "a.  without header.  \n",
        "b.\twith header.  \n",
        "c.\tdisplay its schema**"
      ]
    },
    {
      "cell_type": "markdown",
      "metadata": {
        "id": "bKRn1PYOV9WG"
      },
      "source": [
        "From our demo, we will use a dataset from R Studio. Follow the steps to download the dataset and upload it to this notebook.    \n",
        "1. Click this link http://cran-logs.rstudio.com/2022/2022-12-19-r.csv.gz\n",
        "2. Save the dataset in your local\n",
        "3. Click on Files on your left of this notebook\n",
        "4. Upload the dataset "
      ]
    },
    {
      "cell_type": "code",
      "execution_count": 3,
      "metadata": {
        "colab": {
          "base_uri": "https://localhost:8080/"
        },
        "id": "BpcI1l3KZQ2A",
        "outputId": "aa6b51b3-c8cc-4e65-c7d5-e2a3211aa7f2"
      },
      "outputs": [
        {
          "name": "stdout",
          "output_type": "stream",
          "text": [
            "--2023-02-02 15:22:16--  http://cran-logs.rstudio.com/2022/2022-12-19-r.csv.gz\n",
            "Resolving cran-logs.rstudio.com (cran-logs.rstudio.com)... 52.218.252.42, 52.92.132.219, 52.92.164.83, ...\n",
            "Connecting to cran-logs.rstudio.com (cran-logs.rstudio.com)|52.218.252.42|:80... connected.\n",
            "HTTP request sent, awaiting response... 200 OK\n",
            "Length: 231310 (226K) [application/gzip]\n",
            "Saving to: ‘_data/2022-12-19-r.csv’\n",
            "\n",
            "_data/2022-12-19-r. 100%[===================>] 225.89K   654KB/s    in 0.3s    \n",
            "\n",
            "2023-02-02 15:22:16 (654 KB/s) - ‘_data/2022-12-19-r.csv’ saved [231310/231310]\n",
            "\n",
            "Dataset downloaded into the /content folder.\n"
          ]
        }
      ],
      "source": [
        "#!wget -O \"_data/2022-12-19-r.csv\" \"http://cran-logs.rstudio.com/2022/2022-12-19-r.csv.gz\"\n",
        "#print(\"Dataset downloaded into the /content folder.\")"
      ]
    },
    {
      "cell_type": "markdown",
      "metadata": {
        "id": "4d6pv09HYFLj"
      },
      "source": [
        "The below command is used to read the csv dataset without header  *header = False*.    \n",
        "*inferSchema = True* defines the datatype of a column and we don't have to explicitly define schema of the dataset. Below we will try to create schema for this dataset."
      ]
    },
    {
      "cell_type": "code",
      "execution_count": 9,
      "metadata": {
        "id": "L-Wn4Vx_aR45"
      },
      "outputs": [],
      "source": [
        "df = spark.read.csv(\"_data/2022-12-19-r.csv\", header=False, inferSchema= True)\n",
        "\n",
        "# if the data 2022-12-19.csv is not printed correctly that is because it is a compressed file. Download it and upload it _data folder"
      ]
    },
    {
      "cell_type": "code",
      "execution_count": 10,
      "metadata": {
        "colab": {
          "base_uri": "https://localhost:8080/"
        },
        "id": "QQmBIsKWaik8",
        "outputId": "783f17e7-e833-486d-b877-c4cd2339ff36"
      },
      "outputs": [
        {
          "name": "stdout",
          "output_type": "stream",
          "text": [
            "+----------+--------+--------+-------+---+-------+-----+\n",
            "|       _c0|     _c1|     _c2|    _c3|_c4|    _c5|  _c6|\n",
            "+----------+--------+--------+-------+---+-------+-----+\n",
            "|      date|    time|    size|version| os|country|ip_id|\n",
            "|2022-12-19|14:51:01|79634361|  4.2.2|win|     ID|    1|\n",
            "|2022-12-19|14:51:15| 1050138|  4.2.2|osx|     SE|    2|\n",
            "|2022-12-19|14:51:09|90304560|  4.2.2|osx|     GB|    3|\n",
            "|2022-12-19|14:51:20|92792340|  4.2.2|osx|     US|    4|\n",
            "|2022-12-19|14:51:27| 4199715|  4.2.2|osx|     CA|    5|\n",
            "|2022-12-19|14:51:24|79538110|  4.2.2|win|     FR|    6|\n",
            "|2022-12-19|14:51:30|79625974|  4.2.2|win|     ES|    7|\n",
            "|2022-12-19|14:51:28|92792679|  4.2.2|osx|     IT|    8|\n",
            "|2022-12-19|14:51:35|79627146|  4.2.2|win|     DE|    9|\n",
            "|2022-12-19|14:51:26|90825201|  4.1.2|osx|     US|   10|\n",
            "|2022-12-19|14:51:46|79626319|  4.2.2|win|     DE|   11|\n",
            "|2022-12-19|14:51:33|34025678|  4.2.2|src|     US|   12|\n",
            "|2022-12-19|14:51:45|79628062|  4.2.2|win|     NA|   13|\n",
            "|2022-12-19|14:51:43|92688889|  4.2.2|osx|     US|   14|\n",
            "|2022-12-19|14:51:51|79627091|  4.2.2|win|     NA|   13|\n",
            "|2022-12-19|14:51:43|79628361|  4.2.2|win|     IN|   15|\n",
            "|2022-12-19|14:51:52|90304912|  4.2.2|osx|     NA|   13|\n",
            "|2022-12-19|14:51:56|90825201|  4.1.2|osx|     US|   16|\n",
            "|2022-12-19|14:52:08|90303660|  4.2.2|osx|     TW|   17|\n",
            "+----------+--------+--------+-------+---+-------+-----+\n",
            "only showing top 20 rows\n",
            "\n"
          ]
        }
      ],
      "source": [
        "df.show()"
      ]
    },
    {
      "cell_type": "markdown",
      "metadata": {
        "id": "La930T3NaeZO"
      },
      "source": [
        "Explanation: From the above output, notice the column names *_c0, _c1 etc*. This is because, we told spark that don't look for header by header=False"
      ]
    },
    {
      "cell_type": "markdown",
      "metadata": {
        "id": "a9VLr3UvbXq1"
      },
      "source": [
        "Let's tell the spark to look for the column names in the dataset."
      ]
    },
    {
      "cell_type": "code",
      "execution_count": 12,
      "metadata": {
        "id": "-N7dPR4Ca3WD"
      },
      "outputs": [],
      "source": [
        "df = spark.read.csv(\"_data/2022-12-19-r.csv\", header=True, inferSchema= True)"
      ]
    },
    {
      "cell_type": "code",
      "execution_count": 13,
      "metadata": {
        "colab": {
          "base_uri": "https://localhost:8080/"
        },
        "id": "UNZHprv4bYlH",
        "outputId": "5bffc48f-6a1a-4550-a896-a5f81055006b"
      },
      "outputs": [
        {
          "name": "stdout",
          "output_type": "stream",
          "text": [
            "+-------------------+-------------------+--------+-------+---+-------+-----+\n",
            "|               date|               time|    size|version| os|country|ip_id|\n",
            "+-------------------+-------------------+--------+-------+---+-------+-----+\n",
            "|2022-12-19 00:00:00|2023-02-01 14:51:01|79634361|  4.2.2|win|     ID|    1|\n",
            "|2022-12-19 00:00:00|2023-02-01 14:51:15| 1050138|  4.2.2|osx|     SE|    2|\n",
            "|2022-12-19 00:00:00|2023-02-01 14:51:09|90304560|  4.2.2|osx|     GB|    3|\n",
            "|2022-12-19 00:00:00|2023-02-01 14:51:20|92792340|  4.2.2|osx|     US|    4|\n",
            "|2022-12-19 00:00:00|2023-02-01 14:51:27| 4199715|  4.2.2|osx|     CA|    5|\n",
            "|2022-12-19 00:00:00|2023-02-01 14:51:24|79538110|  4.2.2|win|     FR|    6|\n",
            "|2022-12-19 00:00:00|2023-02-01 14:51:30|79625974|  4.2.2|win|     ES|    7|\n",
            "|2022-12-19 00:00:00|2023-02-01 14:51:28|92792679|  4.2.2|osx|     IT|    8|\n",
            "|2022-12-19 00:00:00|2023-02-01 14:51:35|79627146|  4.2.2|win|     DE|    9|\n",
            "|2022-12-19 00:00:00|2023-02-01 14:51:26|90825201|  4.1.2|osx|     US|   10|\n",
            "|2022-12-19 00:00:00|2023-02-01 14:51:46|79626319|  4.2.2|win|     DE|   11|\n",
            "|2022-12-19 00:00:00|2023-02-01 14:51:33|34025678|  4.2.2|src|     US|   12|\n",
            "|2022-12-19 00:00:00|2023-02-01 14:51:45|79628062|  4.2.2|win|     NA|   13|\n",
            "|2022-12-19 00:00:00|2023-02-01 14:51:43|92688889|  4.2.2|osx|     US|   14|\n",
            "|2022-12-19 00:00:00|2023-02-01 14:51:51|79627091|  4.2.2|win|     NA|   13|\n",
            "|2022-12-19 00:00:00|2023-02-01 14:51:43|79628361|  4.2.2|win|     IN|   15|\n",
            "|2022-12-19 00:00:00|2023-02-01 14:51:52|90304912|  4.2.2|osx|     NA|   13|\n",
            "|2022-12-19 00:00:00|2023-02-01 14:51:56|90825201|  4.1.2|osx|     US|   16|\n",
            "|2022-12-19 00:00:00|2023-02-01 14:52:08|90303660|  4.2.2|osx|     TW|   17|\n",
            "|2022-12-19 00:00:00|2023-02-01 14:49:45|90308138|  4.2.2|osx|     CH|   18|\n",
            "+-------------------+-------------------+--------+-------+---+-------+-----+\n",
            "only showing top 20 rows\n",
            "\n"
          ]
        }
      ],
      "source": [
        "df.show()"
      ]
    },
    {
      "cell_type": "markdown",
      "metadata": {
        "id": "qdkgcKVjbgAV"
      },
      "source": [
        "Explanation: Notice that spark looked for the column names and printed it by header=True"
      ]
    },
    {
      "cell_type": "markdown",
      "metadata": {
        "id": "CFzNR7X3btjV"
      },
      "source": [
        "Let's check how the spark has defined the datatype of columns."
      ]
    },
    {
      "cell_type": "code",
      "execution_count": 14,
      "metadata": {
        "colab": {
          "base_uri": "https://localhost:8080/"
        },
        "id": "wrVEZWJkbaRr",
        "outputId": "a5a9c9cb-72c4-45f3-c9f9-1d7b6252787d"
      },
      "outputs": [
        {
          "name": "stdout",
          "output_type": "stream",
          "text": [
            "root\n",
            " |-- date: timestamp (nullable = true)\n",
            " |-- time: timestamp (nullable = true)\n",
            " |-- size: integer (nullable = true)\n",
            " |-- version: string (nullable = true)\n",
            " |-- os: string (nullable = true)\n",
            " |-- country: string (nullable = true)\n",
            " |-- ip_id: integer (nullable = true)\n",
            "\n"
          ]
        }
      ],
      "source": [
        "df.printSchema()"
      ]
    },
    {
      "cell_type": "markdown",
      "metadata": {
        "id": "WyGcSB8Fb4CW"
      },
      "source": [
        "Explanation: Spark has defined the datatype of columns by inferSchema=True.    \n",
        "If you don't want the spark to define datatypes automatically, mention inferSchema=False. Try it out!"
      ]
    },
    {
      "cell_type": "markdown",
      "metadata": {
        "id": "4PK0EAUNbkAg"
      },
      "source": [
        "**Question 2: Change schema as per datatypes** "
      ]
    },
    {
      "cell_type": "markdown",
      "metadata": {
        "id": "077QeAobdKkC"
      },
      "source": [
        "PySpark [StructType & StructField](https://sparkbyexamples.com/pyspark/pyspark-structtype-and-structfield/) classes are used to programmatically specify the schema to the DataFrame and create complex columns like nested struct, array, and map columns. StructType is a collection of StructField’s that defines column name, column data type, boolean to specify if the field can be nullable or not and metadata.   \n",
        "\n",
        "Spark SQL and DataFrames support a number of data types mentioned in this link: [Supported-Data-types](https://spark.apache.org/docs/3.3.1/sql-ref-datatypes.html#supported-data-types)"
      ]
    },
    {
      "cell_type": "code",
      "execution_count": 15,
      "metadata": {
        "id": "3L-gUU7Ob82H"
      },
      "outputs": [],
      "source": [
        "from pyspark.sql.types import StructType, StructField, IntegerType, StringType, DateType, TimestampType\n",
        "schema = StructType([\n",
        "                    StructField(\"date\", StringType(), True), \\\n",
        "                    StructField(\"time\", StringType(), True), \\\n",
        "                    StructField(\"size\", IntegerType(), True), \\\n",
        "                    StructField(\"version\", StringType(), True), \\\n",
        "                    StructField(\"os\", StringType(), True), \\\n",
        "                    StructField(\"country\", StringType(), True), \\\n",
        "                    StructField(\"ip_id\", IntegerType(), True)\n",
        "                    ])"
      ]
    },
    {
      "cell_type": "markdown",
      "metadata": {
        "id": "wtrTOV7ieEIh"
      },
      "source": [
        "Now, instead of inferSchema = True, let's pass the schema that we built."
      ]
    },
    {
      "cell_type": "code",
      "execution_count": 16,
      "metadata": {
        "colab": {
          "base_uri": "https://localhost:8080/"
        },
        "id": "lCj2Wd1N8dWM",
        "outputId": "ed750574-68d5-4ab5-9633-27f389fc9e71"
      },
      "outputs": [
        {
          "name": "stdout",
          "output_type": "stream",
          "text": [
            "+----------+--------+--------+-------+---+-------+-----+\n",
            "|      date|    time|    size|version| os|country|ip_id|\n",
            "+----------+--------+--------+-------+---+-------+-----+\n",
            "|2022-12-19|14:51:01|79634361|  4.2.2|win|     ID|    1|\n",
            "|2022-12-19|14:51:15| 1050138|  4.2.2|osx|     SE|    2|\n",
            "|2022-12-19|14:51:09|90304560|  4.2.2|osx|     GB|    3|\n",
            "|2022-12-19|14:51:20|92792340|  4.2.2|osx|     US|    4|\n",
            "|2022-12-19|14:51:27| 4199715|  4.2.2|osx|     CA|    5|\n",
            "|2022-12-19|14:51:24|79538110|  4.2.2|win|     FR|    6|\n",
            "|2022-12-19|14:51:30|79625974|  4.2.2|win|     ES|    7|\n",
            "|2022-12-19|14:51:28|92792679|  4.2.2|osx|     IT|    8|\n",
            "|2022-12-19|14:51:35|79627146|  4.2.2|win|     DE|    9|\n",
            "|2022-12-19|14:51:26|90825201|  4.1.2|osx|     US|   10|\n",
            "|2022-12-19|14:51:46|79626319|  4.2.2|win|     DE|   11|\n",
            "|2022-12-19|14:51:33|34025678|  4.2.2|src|     US|   12|\n",
            "|2022-12-19|14:51:45|79628062|  4.2.2|win|     NA|   13|\n",
            "|2022-12-19|14:51:43|92688889|  4.2.2|osx|     US|   14|\n",
            "|2022-12-19|14:51:51|79627091|  4.2.2|win|     NA|   13|\n",
            "|2022-12-19|14:51:43|79628361|  4.2.2|win|     IN|   15|\n",
            "|2022-12-19|14:51:52|90304912|  4.2.2|osx|     NA|   13|\n",
            "|2022-12-19|14:51:56|90825201|  4.1.2|osx|     US|   16|\n",
            "|2022-12-19|14:52:08|90303660|  4.2.2|osx|     TW|   17|\n",
            "|2022-12-19|14:49:45|90308138|  4.2.2|osx|     CH|   18|\n",
            "+----------+--------+--------+-------+---+-------+-----+\n",
            "only showing top 20 rows\n",
            "\n",
            "root\n",
            " |-- date: string (nullable = true)\n",
            " |-- time: string (nullable = true)\n",
            " |-- size: integer (nullable = true)\n",
            " |-- version: string (nullable = true)\n",
            " |-- os: string (nullable = true)\n",
            " |-- country: string (nullable = true)\n",
            " |-- ip_id: integer (nullable = true)\n",
            "\n"
          ]
        }
      ],
      "source": [
        "df = spark.read.csv(\"_data/2022-12-19-r.csv\", header=True, schema= schema)\n",
        "df.show()\n",
        "df.printSchema()"
      ]
    },
    {
      "cell_type": "markdown",
      "metadata": {
        "id": "mP45YUUfvrxl"
      },
      "source": [
        "**Question 3:\tChange schema by adding date time columns into nested column \"Date_Time\"**"
      ]
    },
    {
      "cell_type": "markdown",
      "metadata": {
        "id": "b6Q9OUCteTf7"
      },
      "source": [
        "[PySpark withColumn()](https://sparkbyexamples.com/pyspark/pyspark-withcolumn/) is a transformation function of DataFrame which is used to change the value, convert the datatype of an existing column, create a new column, and many more"
      ]
    },
    {
      "cell_type": "code",
      "execution_count": 17,
      "metadata": {
        "id": "8jWFPVB9futl"
      },
      "outputs": [],
      "source": [
        "from pyspark.sql import functions\n",
        "\n",
        "new_df =df.withColumn(\"datetime\", functions.concat(functions.col(\"date\"), functions.lit(\" \"), functions.col(\"time\")))"
      ]
    },
    {
      "cell_type": "code",
      "execution_count": 18,
      "metadata": {
        "colab": {
          "base_uri": "https://localhost:8080/"
        },
        "id": "PE-lEpiSwNo3",
        "outputId": "88134374-9e71-4ae8-9110-4d5cef8f0c8d"
      },
      "outputs": [
        {
          "name": "stdout",
          "output_type": "stream",
          "text": [
            "+----------+--------+--------+-------+---+-------+-----+-------------------+\n",
            "|      date|    time|    size|version| os|country|ip_id|           datetime|\n",
            "+----------+--------+--------+-------+---+-------+-----+-------------------+\n",
            "|2022-12-19|14:51:01|79634361|  4.2.2|win|     ID|    1|2022-12-19 14:51:01|\n",
            "|2022-12-19|14:51:15| 1050138|  4.2.2|osx|     SE|    2|2022-12-19 14:51:15|\n",
            "|2022-12-19|14:51:09|90304560|  4.2.2|osx|     GB|    3|2022-12-19 14:51:09|\n",
            "|2022-12-19|14:51:20|92792340|  4.2.2|osx|     US|    4|2022-12-19 14:51:20|\n",
            "|2022-12-19|14:51:27| 4199715|  4.2.2|osx|     CA|    5|2022-12-19 14:51:27|\n",
            "|2022-12-19|14:51:24|79538110|  4.2.2|win|     FR|    6|2022-12-19 14:51:24|\n",
            "|2022-12-19|14:51:30|79625974|  4.2.2|win|     ES|    7|2022-12-19 14:51:30|\n",
            "|2022-12-19|14:51:28|92792679|  4.2.2|osx|     IT|    8|2022-12-19 14:51:28|\n",
            "|2022-12-19|14:51:35|79627146|  4.2.2|win|     DE|    9|2022-12-19 14:51:35|\n",
            "|2022-12-19|14:51:26|90825201|  4.1.2|osx|     US|   10|2022-12-19 14:51:26|\n",
            "|2022-12-19|14:51:46|79626319|  4.2.2|win|     DE|   11|2022-12-19 14:51:46|\n",
            "|2022-12-19|14:51:33|34025678|  4.2.2|src|     US|   12|2022-12-19 14:51:33|\n",
            "|2022-12-19|14:51:45|79628062|  4.2.2|win|     NA|   13|2022-12-19 14:51:45|\n",
            "|2022-12-19|14:51:43|92688889|  4.2.2|osx|     US|   14|2022-12-19 14:51:43|\n",
            "|2022-12-19|14:51:51|79627091|  4.2.2|win|     NA|   13|2022-12-19 14:51:51|\n",
            "|2022-12-19|14:51:43|79628361|  4.2.2|win|     IN|   15|2022-12-19 14:51:43|\n",
            "|2022-12-19|14:51:52|90304912|  4.2.2|osx|     NA|   13|2022-12-19 14:51:52|\n",
            "|2022-12-19|14:51:56|90825201|  4.1.2|osx|     US|   16|2022-12-19 14:51:56|\n",
            "|2022-12-19|14:52:08|90303660|  4.2.2|osx|     TW|   17|2022-12-19 14:52:08|\n",
            "|2022-12-19|14:49:45|90308138|  4.2.2|osx|     CH|   18|2022-12-19 14:49:45|\n",
            "+----------+--------+--------+-------+---+-------+-----+-------------------+\n",
            "only showing top 20 rows\n",
            "\n"
          ]
        }
      ],
      "source": [
        "new_df.show()"
      ]
    },
    {
      "cell_type": "markdown",
      "metadata": {
        "id": "WiIE7eryxU65"
      },
      "source": [
        "**Question 4:\tDispay \"ip_id\" and \"country\" alone**"
      ]
    },
    {
      "cell_type": "markdown",
      "metadata": {
        "id": "kCbpHfKBfSfC"
      },
      "source": [
        "To select a single column, multiple columns and all columns from the dataset, we'll use select('col_name'), select(['col_name1', 'col_name2']), select('*')  functions respectively"
      ]
    },
    {
      "cell_type": "code",
      "execution_count": 19,
      "metadata": {
        "colab": {
          "base_uri": "https://localhost:8080/"
        },
        "id": "qw3cits2xFxX",
        "outputId": "e81af0d6-686c-4a65-c4df-409aaefcd732"
      },
      "outputs": [
        {
          "name": "stdout",
          "output_type": "stream",
          "text": [
            "+-----+-------+\n",
            "|ip_id|country|\n",
            "+-----+-------+\n",
            "|    1|     ID|\n",
            "|    2|     SE|\n",
            "|    3|     GB|\n",
            "|    4|     US|\n",
            "|    5|     CA|\n",
            "|    6|     FR|\n",
            "|    7|     ES|\n",
            "|    8|     IT|\n",
            "|    9|     DE|\n",
            "|   10|     US|\n",
            "|   11|     DE|\n",
            "|   12|     US|\n",
            "|   13|     NA|\n",
            "|   14|     US|\n",
            "|   13|     NA|\n",
            "|   15|     IN|\n",
            "|   13|     NA|\n",
            "|   16|     US|\n",
            "|   17|     TW|\n",
            "|   18|     CH|\n",
            "+-----+-------+\n",
            "only showing top 20 rows\n",
            "\n"
          ]
        }
      ],
      "source": [
        "new_df.select([\"ip_id\", \"country\"]).show()"
      ]
    },
    {
      "cell_type": "markdown",
      "metadata": {
        "id": "RJKfqJeZxfIC"
      },
      "source": [
        "**Question 5:\tAdd new column with size in MB**"
      ]
    },
    {
      "cell_type": "markdown",
      "metadata": {
        "id": "h1SNkwhRhVZW"
      },
      "source": [
        "To select a column, we could also use col() function and do operations on it"
      ]
    },
    {
      "cell_type": "code",
      "execution_count": 21,
      "metadata": {
        "colab": {
          "base_uri": "https://localhost:8080/"
        },
        "id": "uPVrVBbbxbMC",
        "outputId": "9521166f-c6fb-450b-9adf-71d244ccebc1"
      },
      "outputs": [
        {
          "name": "stdout",
          "output_type": "stream",
          "text": [
            "+----------+--------+--------+-------+---+-------+-----+-----------------+\n",
            "|      date|    time|    size|version| os|country|ip_id|           sizeMB|\n",
            "+----------+--------+--------+-------+---+-------+-----+-----------------+\n",
            "|2022-12-19|14:51:01|79634361|  4.2.2|win|     ID|    1|        79634.361|\n",
            "|2022-12-19|14:51:15| 1050138|  4.2.2|osx|     SE|    2|         1050.138|\n",
            "|2022-12-19|14:51:09|90304560|  4.2.2|osx|     GB|    3|         90304.56|\n",
            "|2022-12-19|14:51:20|92792340|  4.2.2|osx|     US|    4|         92792.34|\n",
            "|2022-12-19|14:51:27| 4199715|  4.2.2|osx|     CA|    5|         4199.715|\n",
            "|2022-12-19|14:51:24|79538110|  4.2.2|win|     FR|    6|         79538.11|\n",
            "|2022-12-19|14:51:30|79625974|  4.2.2|win|     ES|    7|        79625.974|\n",
            "|2022-12-19|14:51:28|92792679|  4.2.2|osx|     IT|    8|        92792.679|\n",
            "|2022-12-19|14:51:35|79627146|  4.2.2|win|     DE|    9|79627.14600000001|\n",
            "|2022-12-19|14:51:26|90825201|  4.1.2|osx|     US|   10|        90825.201|\n",
            "|2022-12-19|14:51:46|79626319|  4.2.2|win|     DE|   11|        79626.319|\n",
            "|2022-12-19|14:51:33|34025678|  4.2.2|src|     US|   12|        34025.678|\n",
            "|2022-12-19|14:51:45|79628062|  4.2.2|win|     NA|   13|        79628.062|\n",
            "|2022-12-19|14:51:43|92688889|  4.2.2|osx|     US|   14|        92688.889|\n",
            "|2022-12-19|14:51:51|79627091|  4.2.2|win|     NA|   13|        79627.091|\n",
            "|2022-12-19|14:51:43|79628361|  4.2.2|win|     IN|   15|        79628.361|\n",
            "|2022-12-19|14:51:52|90304912|  4.2.2|osx|     NA|   13|        90304.912|\n",
            "|2022-12-19|14:51:56|90825201|  4.1.2|osx|     US|   16|        90825.201|\n",
            "|2022-12-19|14:52:08|90303660|  4.2.2|osx|     TW|   17|         90303.66|\n",
            "|2022-12-19|14:49:45|90308138|  4.2.2|osx|     CH|   18|        90308.138|\n",
            "+----------+--------+--------+-------+---+-------+-----+-----------------+\n",
            "only showing top 20 rows\n",
            "\n"
          ]
        }
      ],
      "source": [
        "from pyspark.sql.functions import col\n",
        "new_df = df.withColumn('sizeMB', col(\"size\")*0.001)\n",
        "new_df.show()"
      ]
    },
    {
      "cell_type": "markdown",
      "metadata": {
        "id": "TdGCRVjgybCr"
      },
      "source": [
        "**Question 6:\tRename “size” column to “size_KB”**"
      ]
    },
    {
      "cell_type": "code",
      "execution_count": 22,
      "metadata": {
        "colab": {
          "base_uri": "https://localhost:8080/"
        },
        "id": "HVdytY2Oxzlf",
        "outputId": "799fdbfe-e983-4c82-ce2a-ff0151d043fa"
      },
      "outputs": [
        {
          "name": "stdout",
          "output_type": "stream",
          "text": [
            "+----------+--------+--------+-------+---+-------+-----+\n",
            "|      date|    time|  sizeKB|version| os|country|ip_id|\n",
            "+----------+--------+--------+-------+---+-------+-----+\n",
            "|2022-12-19|14:51:01|79634361|  4.2.2|win|     ID|    1|\n",
            "|2022-12-19|14:51:15| 1050138|  4.2.2|osx|     SE|    2|\n",
            "|2022-12-19|14:51:09|90304560|  4.2.2|osx|     GB|    3|\n",
            "|2022-12-19|14:51:20|92792340|  4.2.2|osx|     US|    4|\n",
            "|2022-12-19|14:51:27| 4199715|  4.2.2|osx|     CA|    5|\n",
            "|2022-12-19|14:51:24|79538110|  4.2.2|win|     FR|    6|\n",
            "|2022-12-19|14:51:30|79625974|  4.2.2|win|     ES|    7|\n",
            "|2022-12-19|14:51:28|92792679|  4.2.2|osx|     IT|    8|\n",
            "|2022-12-19|14:51:35|79627146|  4.2.2|win|     DE|    9|\n",
            "|2022-12-19|14:51:26|90825201|  4.1.2|osx|     US|   10|\n",
            "|2022-12-19|14:51:46|79626319|  4.2.2|win|     DE|   11|\n",
            "|2022-12-19|14:51:33|34025678|  4.2.2|src|     US|   12|\n",
            "|2022-12-19|14:51:45|79628062|  4.2.2|win|     NA|   13|\n",
            "|2022-12-19|14:51:43|92688889|  4.2.2|osx|     US|   14|\n",
            "|2022-12-19|14:51:51|79627091|  4.2.2|win|     NA|   13|\n",
            "|2022-12-19|14:51:43|79628361|  4.2.2|win|     IN|   15|\n",
            "|2022-12-19|14:51:52|90304912|  4.2.2|osx|     NA|   13|\n",
            "|2022-12-19|14:51:56|90825201|  4.1.2|osx|     US|   16|\n",
            "|2022-12-19|14:52:08|90303660|  4.2.2|osx|     TW|   17|\n",
            "|2022-12-19|14:49:45|90308138|  4.2.2|osx|     CH|   18|\n",
            "+----------+--------+--------+-------+---+-------+-----+\n",
            "only showing top 20 rows\n",
            "\n"
          ]
        }
      ],
      "source": [
        "new_df = df.withColumnRenamed(\"size\", \"sizeKB\")\n",
        "new_df.show()"
      ]
    },
    {
      "cell_type": "markdown",
      "metadata": {
        "id": "LF92SRJdy6EX"
      },
      "source": [
        "**Question 7:\tRemove column “size_KB”**"
      ]
    },
    {
      "cell_type": "code",
      "execution_count": 23,
      "metadata": {
        "colab": {
          "base_uri": "https://localhost:8080/"
        },
        "id": "Mbb3UenUymPV",
        "outputId": "05fda5b9-3e7f-449e-9862-0f729dcceafe"
      },
      "outputs": [
        {
          "name": "stdout",
          "output_type": "stream",
          "text": [
            "+----------+--------+-------+---+-------+-----+\n",
            "|      date|    time|version| os|country|ip_id|\n",
            "+----------+--------+-------+---+-------+-----+\n",
            "|2022-12-19|14:51:01|  4.2.2|win|     ID|    1|\n",
            "|2022-12-19|14:51:15|  4.2.2|osx|     SE|    2|\n",
            "|2022-12-19|14:51:09|  4.2.2|osx|     GB|    3|\n",
            "|2022-12-19|14:51:20|  4.2.2|osx|     US|    4|\n",
            "|2022-12-19|14:51:27|  4.2.2|osx|     CA|    5|\n",
            "|2022-12-19|14:51:24|  4.2.2|win|     FR|    6|\n",
            "|2022-12-19|14:51:30|  4.2.2|win|     ES|    7|\n",
            "|2022-12-19|14:51:28|  4.2.2|osx|     IT|    8|\n",
            "|2022-12-19|14:51:35|  4.2.2|win|     DE|    9|\n",
            "|2022-12-19|14:51:26|  4.1.2|osx|     US|   10|\n",
            "|2022-12-19|14:51:46|  4.2.2|win|     DE|   11|\n",
            "|2022-12-19|14:51:33|  4.2.2|src|     US|   12|\n",
            "|2022-12-19|14:51:45|  4.2.2|win|     NA|   13|\n",
            "|2022-12-19|14:51:43|  4.2.2|osx|     US|   14|\n",
            "|2022-12-19|14:51:51|  4.2.2|win|     NA|   13|\n",
            "|2022-12-19|14:51:43|  4.2.2|win|     IN|   15|\n",
            "|2022-12-19|14:51:52|  4.2.2|osx|     NA|   13|\n",
            "|2022-12-19|14:51:56|  4.1.2|osx|     US|   16|\n",
            "|2022-12-19|14:52:08|  4.2.2|osx|     TW|   17|\n",
            "|2022-12-19|14:49:45|  4.2.2|osx|     CH|   18|\n",
            "+----------+--------+-------+---+-------+-----+\n",
            "only showing top 20 rows\n",
            "\n"
          ]
        }
      ],
      "source": [
        "new_df = new_df.drop(\"sizeKB\")\n",
        "new_df.show()"
      ]
    },
    {
      "cell_type": "markdown",
      "metadata": {
        "id": "IpA8z1NOzHV0"
      },
      "source": [
        "**Question 8:\tDisplay all “ip_id” of ‘US’ country**"
      ]
    },
    {
      "cell_type": "markdown",
      "metadata": {
        "id": "GGAYnSaJh19G"
      },
      "source": [
        "Similar to where clause in SQL, we have similar where() function"
      ]
    },
    {
      "cell_type": "code",
      "execution_count": 24,
      "metadata": {
        "colab": {
          "base_uri": "https://localhost:8080/"
        },
        "id": "ehIlxVTVy_1O",
        "outputId": "8953ec3f-7bb0-445d-a3c9-2b8c93c03b9c"
      },
      "outputs": [
        {
          "name": "stdout",
          "output_type": "stream",
          "text": [
            "+-----+\n",
            "|ip_id|\n",
            "+-----+\n",
            "|    4|\n",
            "|   10|\n",
            "|   12|\n",
            "|   14|\n",
            "|   16|\n",
            "|   20|\n",
            "|   24|\n",
            "|   25|\n",
            "|   27|\n",
            "|   28|\n",
            "|   29|\n",
            "|   31|\n",
            "|   31|\n",
            "|   28|\n",
            "|   39|\n",
            "|   46|\n",
            "|   48|\n",
            "|   52|\n",
            "|   53|\n",
            "|   54|\n",
            "+-----+\n",
            "only showing top 20 rows\n",
            "\n"
          ]
        }
      ],
      "source": [
        "from pyspark.sql.functions import col\n",
        "new_df = df.select(\"ip_id\").where(col(\"country\") == \"US\")\n",
        "new_df.show()"
      ]
    },
    {
      "cell_type": "markdown",
      "metadata": {
        "id": "oc9EtGAPzfT7"
      },
      "source": [
        "**Question 9:\tAdd column - Description - “These are os version details with country names”**"
      ]
    },
    {
      "cell_type": "markdown",
      "metadata": {
        "id": "gUfETTJBiONe"
      },
      "source": [
        "[PySpark lit()](https://sparkbyexamples.com/pyspark/pyspark-lit-add-literal-constant/) function is used to add constant or literal value as a new column to the DataFrame."
      ]
    },
    {
      "cell_type": "code",
      "execution_count": 25,
      "metadata": {
        "colab": {
          "base_uri": "https://localhost:8080/"
        },
        "id": "mqxHlLfMzUsM",
        "outputId": "87df19c6-ecbc-4dcd-edc0-ef554bee11d8"
      },
      "outputs": [
        {
          "name": "stdout",
          "output_type": "stream",
          "text": [
            "+----------+--------+--------+-------+---+-------+-----+--------------------+\n",
            "|      date|    time|    size|version| os|country|ip_id|         Description|\n",
            "+----------+--------+--------+-------+---+-------+-----+--------------------+\n",
            "|2022-12-19|14:51:01|79634361|  4.2.2|win|     ID|    1|These are os vers...|\n",
            "|2022-12-19|14:51:15| 1050138|  4.2.2|osx|     SE|    2|These are os vers...|\n",
            "|2022-12-19|14:51:09|90304560|  4.2.2|osx|     GB|    3|These are os vers...|\n",
            "|2022-12-19|14:51:20|92792340|  4.2.2|osx|     US|    4|These are os vers...|\n",
            "|2022-12-19|14:51:27| 4199715|  4.2.2|osx|     CA|    5|These are os vers...|\n",
            "|2022-12-19|14:51:24|79538110|  4.2.2|win|     FR|    6|These are os vers...|\n",
            "|2022-12-19|14:51:30|79625974|  4.2.2|win|     ES|    7|These are os vers...|\n",
            "|2022-12-19|14:51:28|92792679|  4.2.2|osx|     IT|    8|These are os vers...|\n",
            "|2022-12-19|14:51:35|79627146|  4.2.2|win|     DE|    9|These are os vers...|\n",
            "|2022-12-19|14:51:26|90825201|  4.1.2|osx|     US|   10|These are os vers...|\n",
            "|2022-12-19|14:51:46|79626319|  4.2.2|win|     DE|   11|These are os vers...|\n",
            "|2022-12-19|14:51:33|34025678|  4.2.2|src|     US|   12|These are os vers...|\n",
            "|2022-12-19|14:51:45|79628062|  4.2.2|win|     NA|   13|These are os vers...|\n",
            "|2022-12-19|14:51:43|92688889|  4.2.2|osx|     US|   14|These are os vers...|\n",
            "|2022-12-19|14:51:51|79627091|  4.2.2|win|     NA|   13|These are os vers...|\n",
            "|2022-12-19|14:51:43|79628361|  4.2.2|win|     IN|   15|These are os vers...|\n",
            "|2022-12-19|14:51:52|90304912|  4.2.2|osx|     NA|   13|These are os vers...|\n",
            "|2022-12-19|14:51:56|90825201|  4.1.2|osx|     US|   16|These are os vers...|\n",
            "|2022-12-19|14:52:08|90303660|  4.2.2|osx|     TW|   17|These are os vers...|\n",
            "|2022-12-19|14:49:45|90308138|  4.2.2|osx|     CH|   18|These are os vers...|\n",
            "+----------+--------+--------+-------+---+-------+-----+--------------------+\n",
            "only showing top 20 rows\n",
            "\n"
          ]
        }
      ],
      "source": [
        "from pyspark.sql.functions import lit\n",
        "new_df = df.withColumn(\"Description\", lit(\"These are os version details with country names\"))\n",
        "new_df.show()"
      ]
    },
    {
      "cell_type": "markdown",
      "metadata": {
        "id": "ztUmzYUz0Y_U"
      },
      "source": [
        "**Question 10:\tIp_ids of OS whose size is greater than 5000 MB and country is “US”**"
      ]
    },
    {
      "cell_type": "markdown",
      "metadata": {
        "id": "7z3JukL1jQ0Z"
      },
      "source": [
        "[PySpark filter()](https://sparkbyexamples.com/pyspark/pyspark-where-filter/) function is used to filter the rows from RDD/DataFrame based on the given condition or SQL expression, you can also use where() clause instead of the filter() if you are coming from an SQL background, both these functions operate exactly the same."
      ]
    },
    {
      "cell_type": "code",
      "execution_count": 26,
      "metadata": {
        "colab": {
          "base_uri": "https://localhost:8080/"
        },
        "id": "aLfEgH-8zsCr",
        "outputId": "ce6c63da-0768-43ec-80f4-69bebc6b5f79"
      },
      "outputs": [
        {
          "name": "stdout",
          "output_type": "stream",
          "text": [
            "+-----+\n",
            "|ip_id|\n",
            "+-----+\n",
            "|    4|\n",
            "|   10|\n",
            "|   12|\n",
            "|   14|\n",
            "|   16|\n",
            "|   20|\n",
            "|   24|\n",
            "|   27|\n",
            "|   28|\n",
            "|   29|\n",
            "|   28|\n",
            "|   39|\n",
            "|   48|\n",
            "|   52|\n",
            "|   53|\n",
            "|   54|\n",
            "|   58|\n",
            "|   59|\n",
            "|   60|\n",
            "|   61|\n",
            "+-----+\n",
            "only showing top 20 rows\n",
            "\n"
          ]
        }
      ],
      "source": [
        "new_df = df.select(\"ip_id\")\\\n",
        "            .filter((df.country == \"US\") & (df.size > 5000000))\n",
        "new_df.show()"
      ]
    },
    {
      "cell_type": "markdown",
      "metadata": {
        "id": "5OlLkg-01I6U"
      },
      "source": [
        "**Question 11:\tIp_ids of OS whose size is greater than 5000 MB and country is “US” with sql module of spark session. (create a temporary view in spark session)**"
      ]
    },
    {
      "cell_type": "markdown",
      "metadata": {
        "id": "bJmw3O2AjuUG"
      },
      "source": [
        "If you are comfortable with SQL, you can create a temporary view on DataFrame/Dataset by using [createOrReplaceTempView()](https://sparkbyexamples.com/pyspark/pyspark-createorreplacetempview/) and using SQL to select and manipulate the data."
      ]
    },
    {
      "cell_type": "code",
      "execution_count": 27,
      "metadata": {
        "id": "oRovGBni010E"
      },
      "outputs": [],
      "source": [
        "df.createOrReplaceTempView(\"df_table\")"
      ]
    },
    {
      "cell_type": "code",
      "execution_count": 28,
      "metadata": {
        "colab": {
          "base_uri": "https://localhost:8080/"
        },
        "id": "gEwvh-Y41ghj",
        "outputId": "b13b15e6-d1cf-4e73-f8b8-e1e30e9706a0"
      },
      "outputs": [
        {
          "name": "stdout",
          "output_type": "stream",
          "text": [
            "+-----+\n",
            "|ip_id|\n",
            "+-----+\n",
            "|    4|\n",
            "|   10|\n",
            "|   12|\n",
            "|   14|\n",
            "|   16|\n",
            "|   20|\n",
            "|   24|\n",
            "|   27|\n",
            "|   28|\n",
            "|   29|\n",
            "|   28|\n",
            "|   39|\n",
            "|   48|\n",
            "|   52|\n",
            "|   53|\n",
            "|   54|\n",
            "|   58|\n",
            "|   59|\n",
            "|   60|\n",
            "|   61|\n",
            "+-----+\n",
            "only showing top 20 rows\n",
            "\n"
          ]
        }
      ],
      "source": [
        "spark.sql(\"select ip_id from df_table where country = 'US' and size > 5000000\").show()"
      ]
    },
    {
      "cell_type": "markdown",
      "metadata": {
        "id": "RKpQA4An12Uc"
      },
      "source": [
        "**Question 12: Import csv from https://www.sample-videos.com/csv/Sample-Spreadsheet-500000-rows.csv and display it without wrapping the text content**"
      ]
    },
    {
      "cell_type": "markdown",
      "metadata": {
        "id": "GhGb35qdmKoy"
      },
      "source": [
        "The below command is used to download the dataset from the link and will be saved to /content in this notebook"
      ]
    },
    {
      "cell_type": "code",
      "execution_count": 1,
      "metadata": {
        "colab": {
          "base_uri": "https://localhost:8080/"
        },
        "id": "ITNGoDXG91zA",
        "outputId": "3be6eb64-6178-413a-aed9-d732692e356f"
      },
      "outputs": [
        {
          "name": "stdout",
          "output_type": "stream",
          "text": [
            "--2023-02-02 15:21:05--  https://www.sample-videos.com/csv/Sample-Spreadsheet-500000-rows.csv\n",
            "Resolving www.sample-videos.com (www.sample-videos.com)... 103.145.51.95\n",
            "Connecting to www.sample-videos.com (www.sample-videos.com)|103.145.51.95|:443... connected.\n",
            "WARNING: no certificate subject alternative name matches\n",
            "\trequested host name ‘www.sample-videos.com’.\n",
            "HTTP request sent, awaiting response... 200 OK\n",
            "Length: 6455296 (6.2M) [text/csv]\n",
            "Saving to: ‘_data/sample_videos.csv’\n",
            "\n",
            "_data/sample_videos 100%[===================>]   6.16M  3.32MB/s    in 1.9s    \n",
            "\n",
            "2023-02-02 15:21:08 (3.32 MB/s) - ‘_data/sample_videos.csv’ saved [6455296/6455296]\n",
            "\n"
          ]
        }
      ],
      "source": [
        "#!wget -O \"_data/sample_videos.csv\" \"https://www.sample-videos.com/csv/Sample-Spreadsheet-500000-rows.csv\" --no-check-certificate"
      ]
    },
    {
      "cell_type": "code",
      "execution_count": 2,
      "metadata": {
        "colab": {
          "base_uri": "https://localhost:8080/"
        },
        "id": "nbNvVGXc1x-b",
        "outputId": "e7bf645d-5f43-4444-a60f-3ccd12b61f66"
      },
      "outputs": [
        {
          "name": "stderr",
          "output_type": "stream",
          "text": [
            "                                                                                \r"
          ]
        },
        {
          "name": "stdout",
          "output_type": "stream",
          "text": [
            "+------------------------------------------------------------------------------+------------------+----+-------+------+-----+-------+------------------------------+----+\n",
            "|_c0                                                                           |_c1               |_c2 |_c3    |_c4   |_c5  |_c6    |_c7                           |_c8 |\n",
            "+------------------------------------------------------------------------------+------------------+----+-------+------+-----+-------+------------------------------+----+\n",
            "|Eldon Base for stackable storage shelf, platinum                              |Muhammed MacIntyre|3   |-213.25|38.94 |35   |Nunavut|Storage & Organization        |0.8 |\n",
            "|\"1.7 Cubic Foot Compact \"\"Cube\"\" Office Refrigerators\"                        |Barry French      |293 |457.81 |208.16|68.02|Nunavut|Appliances                    |0.58|\n",
            "|Cardinal Slant-D� Ring Binder, Heavy Gauge Vinyl                              |Barry French      |293 |46.71  |8.69  |2.99 |Nunavut|Binders and Binder Accessories|0.39|\n",
            "|R380                                                                          |Clay Rozendal     |483 |1198.97|195.99|3.99 |Nunavut|Telephones and Communication  |0.58|\n",
            "|Holmes HEPA Air Purifier                                                      |Carlos Soltero    |515 |30.94  |21.78 |5.94 |Nunavut|Appliances                    |0.5 |\n",
            "|G.E. Longer-Life Indoor Recessed Floodlight Bulbs                             |Carlos Soltero    |515 |4.43   |6.64  |4.95 |Nunavut|Office Furnishings            |0.37|\n",
            "|Angle-D Binders with Locking Rings, Label Holders                             |Carl Jackson      |613 |-54.04 |7.3   |7.72 |Nunavut|Binders and Binder Accessories|0.38|\n",
            "|SAFCO Mobile Desk Side File, Wire Frame                                       |Carl Jackson      |613 |127.7  |42.76 |6.22 |Nunavut|Storage & Organization        |null|\n",
            "|SAFCO Commercial Wire Shelving, Black                                         |Monica Federle    |643 |-695.26|138.14|35   |Nunavut|Storage & Organization        |null|\n",
            "|Xerox 198                                                                     |Dorothy Badders   |678 |-226.36|4.98  |8.33 |Nunavut|Paper                         |0.38|\n",
            "|Xerox 1980                                                                    |Neola Schneider   |807 |-166.85|4.28  |6.18 |Nunavut|Paper                         |0.4 |\n",
            "|Advantus Map Pennant Flags and Round Head Tacks                               |Neola Schneider   |807 |-14.33 |3.95  |2    |Nunavut|Rubber Bands                  |0.53|\n",
            "|Holmes HEPA Air Purifier                                                      |Carlos Daly       |868 |134.72 |21.78 |5.94 |Nunavut|Appliances                    |0.5 |\n",
            "|DS/HD IBM Formatted Diskettes, 200/Pack - Staples                             |Carlos Daly       |868 |114.46 |47.98 |3.61 |Nunavut|Computer Peripherals          |0.71|\n",
            "|\"Wilson Jones 1\"\" Hanging DublLock� Ring Binders\"                             |Claudia Miner     |933 |-4.72  |5.28  |2.99 |Nunavut|Binders and Binder Accessories|0.37|\n",
            "|Ultra Commercial Grade Dual Valve Door Closer                                 |Neola Schneider   |995 |782.91 |39.89 |3.04 |Nunavut|Office Furnishings            |0.53|\n",
            "|\"#10-4 1/8\"\" x 9 1/2\"\" Premium Diagonal Seam Envelopes\"                       |Allen Rosenblatt  |998 |93.8   |15.74 |1.39 |Nunavut|Envelopes                     |0.4 |\n",
            "|Hon 4-Shelf Metal Bookcases                                                   |Sylvia Foulston   |1154|440.72 |100.98|26.22|Nunavut|Bookcases                     |0.6 |\n",
            "|Lesro Sheffield Collection Coffee Table, End Table, Center Table, Corner Table|Sylvia Foulston   |1154|-481.04|71.37 |69   |Nunavut|Tables                        |0.68|\n",
            "|g520                                                                          |Jim Radford       |1344|-11.68 |65.99 |5.26 |Nunavut|Telephones and Communication  |0.59|\n",
            "+------------------------------------------------------------------------------+------------------+----+-------+------+-----+-------+------------------------------+----+\n",
            "only showing top 20 rows\n",
            "\n"
          ]
        }
      ],
      "source": [
        "new_df = spark.read.csv(\"_data/sample_videos.csv\", header=False, inferSchema=True)\n",
        "new_df.show(truncate=False)"
      ]
    },
    {
      "cell_type": "markdown",
      "metadata": {
        "id": "3Ci2FZE-jqrA"
      },
      "source": [
        "**Question 13:\tPrint column names**"
      ]
    },
    {
      "cell_type": "code",
      "execution_count": 33,
      "metadata": {
        "colab": {
          "base_uri": "https://localhost:8080/"
        },
        "id": "Fl_UGPHD6qlE",
        "outputId": "2d94e33b-ca05-415e-a6e1-d19588b60d86"
      },
      "outputs": [
        {
          "name": "stdout",
          "output_type": "stream",
          "text": [
            "root\n",
            " |-- _c0: string (nullable = true)\n",
            " |-- _c1: string (nullable = true)\n",
            " |-- _c2: string (nullable = true)\n",
            " |-- _c3: string (nullable = true)\n",
            " |-- _c4: string (nullable = true)\n",
            " |-- _c5: string (nullable = true)\n",
            " |-- _c6: string (nullable = true)\n",
            " |-- _c7: string (nullable = true)\n",
            " |-- _c8: string (nullable = true)\n",
            "\n"
          ]
        },
        {
          "data": {
            "text/plain": [
              "['_c0', '_c1', '_c2', '_c3', '_c4', '_c5', '_c6', '_c7', '_c8']"
            ]
          },
          "execution_count": 33,
          "metadata": {},
          "output_type": "execute_result"
        }
      ],
      "source": [
        "new_df.printSchema()\n",
        "new_df.schema.names"
      ]
    },
    {
      "cell_type": "markdown",
      "metadata": {
        "id": "cEU-FEaCHNL3"
      },
      "source": [
        "Notice that the dataset doesn't contain headers, we are going to add it below"
      ]
    },
    {
      "cell_type": "markdown",
      "metadata": {
        "id": "UfX8NcXem5-w"
      },
      "source": [
        "**Question 14:\tDisplay size of csv date**"
      ]
    },
    {
      "cell_type": "markdown",
      "metadata": {
        "id": "Z6kTnC7nHXq8"
      },
      "source": [
        "PySpark has [several count()](https://sparkbyexamples.com/pyspark/pyspark-count/) functions, depending on the use case you need to choose which one fits your need. The below count() function is used to get the number of rows present in the DataFrame."
      ]
    },
    {
      "cell_type": "code",
      "execution_count": 34,
      "metadata": {
        "colab": {
          "base_uri": "https://localhost:8080/"
        },
        "id": "NEE5EjoRme6I",
        "outputId": "89d7bfce-f425-4e9c-fe58-7202b23bafbe"
      },
      "outputs": [
        {
          "data": {
            "text/plain": [
              "59507"
            ]
          },
          "execution_count": 34,
          "metadata": {},
          "output_type": "execute_result"
        }
      ],
      "source": [
        "new_df.count()"
      ]
    },
    {
      "cell_type": "markdown",
      "metadata": {
        "id": "P0F0Zg10niI6"
      },
      "source": [
        "**Question 15:\tPrint unique values count and duplicate values count**"
      ]
    },
    {
      "cell_type": "markdown",
      "metadata": {
        "id": "oGRe4UYwIWCD"
      },
      "source": [
        "PySpark [distinct() function](https://sparkbyexamples.com/pyspark/pyspark-distinct-to-drop-duplicates/) is used to drop/remove the duplicate rows (all columns) from DataFrame"
      ]
    },
    {
      "cell_type": "code",
      "execution_count": 35,
      "metadata": {
        "colab": {
          "base_uri": "https://localhost:8080/"
        },
        "id": "9sLVyeUynVYF",
        "outputId": "321864ab-6c33-440a-a2ce-3a57c2d63f56"
      },
      "outputs": [
        {
          "data": {
            "text/plain": [
              "8400"
            ]
          },
          "execution_count": 35,
          "metadata": {},
          "output_type": "execute_result"
        }
      ],
      "source": [
        "new_df.distinct().count()"
      ]
    },
    {
      "cell_type": "code",
      "execution_count": 36,
      "metadata": {
        "colab": {
          "base_uri": "https://localhost:8080/"
        },
        "id": "xfKLczfloEDz",
        "outputId": "be032f95-ed90-4979-94b4-425f96a801a8"
      },
      "outputs": [
        {
          "data": {
            "text/plain": [
              "51107"
            ]
          },
          "execution_count": 36,
          "metadata": {},
          "output_type": "execute_result"
        }
      ],
      "source": [
        "# duplicates count\n",
        "new_df.count() - new_df.distinct().count()"
      ]
    },
    {
      "cell_type": "markdown",
      "metadata": {
        "id": "4exlD5hYoc2C"
      },
      "source": [
        "**Question 16.\tDrop duplicates**"
      ]
    },
    {
      "cell_type": "markdown",
      "metadata": {
        "id": "QFojmu2PJwMJ"
      },
      "source": [
        "PySpark [drop_duplicates() function](https://sparkbyexamples.com/pyspark/pyspark-distinct-to-drop-duplicates/) dropDuplicates() is used to drop rows based on selected (one or multiple) columns."
      ]
    },
    {
      "cell_type": "code",
      "execution_count": 37,
      "metadata": {
        "colab": {
          "base_uri": "https://localhost:8080/"
        },
        "id": "QnP4iAvVoT0G",
        "outputId": "cc6bb255-b1c9-428a-d61c-ef0ff9da1f66"
      },
      "outputs": [
        {
          "name": "stdout",
          "output_type": "stream",
          "text": [
            "+--------------------+-------------------+-------------+--------+------+-----+--------------------+--------------------+-----+\n",
            "|                 _c0|                _c1|          _c2|     _c3|   _c4|  _c5|                 _c6|                 _c7|  _c8|\n",
            "+--------------------+-------------------+-------------+--------+------+-----+--------------------+--------------------+-----+\n",
            "|Global Stack Chai...|    Cari Schnelling|        20071| -190.41| 25.98|14.36|Northwest Territo...|  Chairs & Chairmats|  0.6|\n",
            "|GBC Prepunched Pa...|   Jennifer Braxton|        40835|   -8.08| 15.01|  8.4|Prince Edward Island|Binders and Binde...| 0.39|\n",
            "|Office Star - Tas...|       Rob Haberlin|         2279|  205.83| 90.98|   30|    British Columbia|  Chairs & Chairmats| 0.61|\n",
            "|Eldon Expressions...|      Justin Knight|        38565|  -11.69| 10.64| 5.16|    British Columbia|  Office Furnishings| 0.57|\n",
            "|Panasonic KX-P320...|       Mark Cousins|        28389|  322.66|297.48|18.06|    British Columbia|     Office Machines|  0.6|\n",
            "|          Xerox 1949|     Shahid Hopkins|        40134|   -6.72|  4.98| 4.72|    British Columbia|               Paper| 0.36|\n",
            "|Hon Deluxe Fabric...|       Greg Maxwell|        47527| 3064.51|243.98|43.32|         Nova Scotia|  Chairs & Chairmats| 0.55|\n",
            "|          Newell 340|        Neil Ducich|        36099|    5.72|  2.88|  0.7|    British Columbia| Pens & Art Supplies| 0.56|\n",
            "|          Accessory6|       Roland Black|        45249|    -127| 55.99|    5|            Manitoba|Telephones and Co...|  0.8|\n",
            "|DIXON Oriole� Pen...|       Chad Sievert|        50048|   -9.19|  2.58|  1.3|            Manitoba| Pens & Art Supplies| 0.59|\n",
            "|          Xerox 1891|         Paul Prost|        24903|  743.59| 48.91| 5.81|             Ontario|               Paper| 0.38|\n",
            "|\"\"\"While you Were...| One Form per Page\"|Tamara Dahlen|    8710|  8.33| 3.71|                1.93|             Ontario|Paper|\n",
            "|Okidata ML591 Wid...|       Bill Stewart|        17187|-1890.33|810.98|16.06|             Ontario|     Office Machines| 0.56|\n",
            "|\"Avery� Durable P...|       Allen Golden|        22434|  -14.69|  4.54| 5.83|             Ontario|Binders and Binde...| 0.36|\n",
            "|Peel-Off� China M...|         Alan Hwang|        34211|   36.23|  9.93| 1.09|             Ontario| Pens & Art Supplies| 0.43|\n",
            "|Master Giant Foot...|  Eugene Hildebrand|        52999|   22.85|  7.59|    4|             Ontario|  Office Furnishings| 0.42|\n",
            "|Global Deluxe Off...|          Ann Blume|         7751| -768.14| 95.98| 58.2|         Nova Scotia|  Chairs & Chairmats| 0.58|\n",
            "| 600 Series Non-Flip|      Ellis Ballard|        20900|   483.6| 45.99| 4.99|              Quebec|Telephones and Co...| 0.57|\n",
            "|Hon 2111 Invitati...|     Joni Wasserman|        55239| -505.98|209.37|   69|              Quebec|              Tables| 0.79|\n",
            "|\"Barricks 18\"\" x ...|         Karl Brown|         1191|  -243.6| 100.8|   60|              Quebec|              Tables| 0.59|\n",
            "+--------------------+-------------------+-------------+--------+------+-----+--------------------+--------------------+-----+\n",
            "only showing top 20 rows\n",
            "\n"
          ]
        }
      ],
      "source": [
        "distinct_df = new_df.drop_duplicates()\n",
        "distinct_df.show()"
      ]
    },
    {
      "cell_type": "code",
      "execution_count": 38,
      "metadata": {
        "colab": {
          "base_uri": "https://localhost:8080/"
        },
        "id": "_OKw3ThAomcO",
        "outputId": "f6580524-8f6c-4864-ed63-70f82b1247f0"
      },
      "outputs": [
        {
          "data": {
            "text/plain": [
              "8400"
            ]
          },
          "execution_count": 38,
          "metadata": {},
          "output_type": "execute_result"
        }
      ],
      "source": [
        "distinct_df.count()"
      ]
    },
    {
      "cell_type": "markdown",
      "metadata": {
        "id": "hptgA5pTow9G"
      },
      "source": [
        "**Question 17:\tRename columns names to Details, Name, ID, Index, NormalisedIndex, value, source, classification, percentage**"
      ]
    },
    {
      "cell_type": "code",
      "execution_count": 39,
      "metadata": {
        "id": "99uDnn_wqAFR"
      },
      "outputs": [],
      "source": [
        "col_names = (\"details\", \"name\", \"id\", \"index\", \"normalised_index\", \"value\", \"source\", \"classification\", \"percentage\")"
      ]
    },
    {
      "cell_type": "markdown",
      "metadata": {
        "id": "CS1QZ5HOKHM7"
      },
      "source": [
        "The [pyspark.sql.DataFrame.toDF() function](https://sparkbyexamples.com/pyspark/pyspark-todf-with-examples/) is used to create the DataFrame with the specified column names it create DataFrame from RDD. Since RDD is schema-less without column names and data type, converting from RDD to DataFrame gives you default column names as _1, _2 and so on and data type as String."
      ]
    },
    {
      "cell_type": "code",
      "execution_count": 40,
      "metadata": {
        "colab": {
          "base_uri": "https://localhost:8080/"
        },
        "id": "iAWtqkpGoqnU",
        "outputId": "5492371d-f6a8-4856-a4ff-7c4e262e5328"
      },
      "outputs": [
        {
          "name": "stdout",
          "output_type": "stream",
          "text": [
            "root\n",
            " |-- details: string (nullable = true)\n",
            " |-- name: string (nullable = true)\n",
            " |-- id: string (nullable = true)\n",
            " |-- index: string (nullable = true)\n",
            " |-- normalised_index: string (nullable = true)\n",
            " |-- value: string (nullable = true)\n",
            " |-- source: string (nullable = true)\n",
            " |-- classification: string (nullable = true)\n",
            " |-- percentage: string (nullable = true)\n",
            "\n"
          ]
        }
      ],
      "source": [
        "renamed_df = distinct_df.toDF(*col_names)\n",
        "renamed_df.printSchema()"
      ]
    },
    {
      "cell_type": "markdown",
      "metadata": {
        "id": "R0JpludwqiyT"
      },
      "source": [
        "**Question 18:\tTake first 20 entries into a new dataframe**"
      ]
    },
    {
      "cell_type": "markdown",
      "metadata": {
        "id": "FhPSsK3IKT3n"
      },
      "source": [
        "Spark [DataFrame show()](https://sparkbyexamples.com/spark/spark-show-display-dataframe-contents-in-table/) is used to display the contents of the DataFrame in a Table Row & Column Format. By default, it shows only 20 Rows and the column values are truncated at 20 characters."
      ]
    },
    {
      "cell_type": "code",
      "execution_count": 41,
      "metadata": {
        "colab": {
          "base_uri": "https://localhost:8080/"
        },
        "id": "7ruFR68VqV7J",
        "outputId": "fee973d8-2f91-4c27-c5d2-9cc785c52e75"
      },
      "outputs": [
        {
          "name": "stdout",
          "output_type": "stream",
          "text": [
            "+--------------------+-------------------+-------------+--------+----------------+-----+--------------------+--------------------+----------+\n",
            "|             details|               name|           id|   index|normalised_index|value|              source|      classification|percentage|\n",
            "+--------------------+-------------------+-------------+--------+----------------+-----+--------------------+--------------------+----------+\n",
            "|Global Stack Chai...|    Cari Schnelling|        20071| -190.41|           25.98|14.36|Northwest Territo...|  Chairs & Chairmats|       0.6|\n",
            "|GBC Prepunched Pa...|   Jennifer Braxton|        40835|   -8.08|           15.01|  8.4|Prince Edward Island|Binders and Binde...|      0.39|\n",
            "|Office Star - Tas...|       Rob Haberlin|         2279|  205.83|           90.98|   30|    British Columbia|  Chairs & Chairmats|      0.61|\n",
            "|Eldon Expressions...|      Justin Knight|        38565|  -11.69|           10.64| 5.16|    British Columbia|  Office Furnishings|      0.57|\n",
            "|Panasonic KX-P320...|       Mark Cousins|        28389|  322.66|          297.48|18.06|    British Columbia|     Office Machines|       0.6|\n",
            "|          Xerox 1949|     Shahid Hopkins|        40134|   -6.72|            4.98| 4.72|    British Columbia|               Paper|      0.36|\n",
            "|Hon Deluxe Fabric...|       Greg Maxwell|        47527| 3064.51|          243.98|43.32|         Nova Scotia|  Chairs & Chairmats|      0.55|\n",
            "|          Newell 340|        Neil Ducich|        36099|    5.72|            2.88|  0.7|    British Columbia| Pens & Art Supplies|      0.56|\n",
            "|          Accessory6|       Roland Black|        45249|    -127|           55.99|    5|            Manitoba|Telephones and Co...|       0.8|\n",
            "|DIXON Oriole� Pen...|       Chad Sievert|        50048|   -9.19|            2.58|  1.3|            Manitoba| Pens & Art Supplies|      0.59|\n",
            "|          Xerox 1891|         Paul Prost|        24903|  743.59|           48.91| 5.81|             Ontario|               Paper|      0.38|\n",
            "|\"\"\"While you Were...| One Form per Page\"|Tamara Dahlen|    8710|            8.33| 3.71|                1.93|             Ontario|     Paper|\n",
            "|Okidata ML591 Wid...|       Bill Stewart|        17187|-1890.33|          810.98|16.06|             Ontario|     Office Machines|      0.56|\n",
            "|\"Avery� Durable P...|       Allen Golden|        22434|  -14.69|            4.54| 5.83|             Ontario|Binders and Binde...|      0.36|\n",
            "|Peel-Off� China M...|         Alan Hwang|        34211|   36.23|            9.93| 1.09|             Ontario| Pens & Art Supplies|      0.43|\n",
            "|Master Giant Foot...|  Eugene Hildebrand|        52999|   22.85|            7.59|    4|             Ontario|  Office Furnishings|      0.42|\n",
            "|Global Deluxe Off...|          Ann Blume|         7751| -768.14|           95.98| 58.2|         Nova Scotia|  Chairs & Chairmats|      0.58|\n",
            "| 600 Series Non-Flip|      Ellis Ballard|        20900|   483.6|           45.99| 4.99|              Quebec|Telephones and Co...|      0.57|\n",
            "|Hon 2111 Invitati...|     Joni Wasserman|        55239| -505.98|          209.37|   69|              Quebec|              Tables|      0.79|\n",
            "|\"Barricks 18\"\" x ...|         Karl Brown|         1191|  -243.6|           100.8|   60|              Quebec|              Tables|      0.59|\n",
            "+--------------------+-------------------+-------------+--------+----------------+-----+--------------------+--------------------+----------+\n",
            "only showing top 20 rows\n",
            "\n"
          ]
        }
      ],
      "source": [
        "renamed_df.show(20)"
      ]
    },
    {
      "cell_type": "markdown",
      "metadata": {
        "id": "jEaX6pdHqyTt"
      },
      "source": [
        "**Question 19:\tSort based on Name column**"
      ]
    },
    {
      "cell_type": "markdown",
      "metadata": {
        "id": "3AfmVdKZKk_Z"
      },
      "source": [
        "You can use either [sort() or orderBy() function](https://sparkbyexamples.com/pyspark/pyspark-orderby-and-sort-explained/) of PySpark DataFrame to sort DataFrame by ascending or descending order based on single or multiple columns, you can also do sorting using PySpark SQL sorting functions"
      ]
    },
    {
      "cell_type": "code",
      "execution_count": 42,
      "metadata": {
        "colab": {
          "base_uri": "https://localhost:8080/"
        },
        "id": "oCGypsPAqp-w",
        "outputId": "a350e68f-029c-42f4-ecbe-3e3986af0d3b"
      },
      "outputs": [
        {
          "name": "stdout",
          "output_type": "stream",
          "text": [
            "+--------------------+---------+---------------+-----+----------------+-----+------+----------------+--------------------+\n",
            "|             details|     name|             id|index|normalised_index|value|source|  classification|          percentage|\n",
            "+--------------------+---------+---------------+-----+----------------+-----+------+----------------+--------------------+\n",
            "|\"Imation 3.5\"\" Un...|  10/Box\"|   Joseph Airdo|32198|         -117.92| 7.37|  5.53|         Ontario|Computer Peripherals|\n",
            "|\"Imation 3.5\"\" Un...|  10/Box\"|     Karen Bern|49319|          -68.66| 7.37|  5.53|     Saskachewan|Computer Peripherals|\n",
            "|\"Imation 3.5\"\" Un...|  10/Box\"|    Anna Gayman| 5572|          -133.7| 7.37|  5.53|         Ontario|Computer Peripherals|\n",
            "|\"Imation 3.5\"\" Un...|  10/Box\"|   Larry Blacks|49504|          -195.6| 7.37|  5.53|     Saskachewan|Computer Peripherals|\n",
            "|\"Imation 3.5\"\" Un...|  10/Box\"|     Ken Heidel|52868|         -100.49| 7.37|  5.53|        Manitoba|Computer Peripherals|\n",
            "|\"Imation 3.5\"\" Un...|  10/Box\"|  Duane Huffman|34244|          -89.56| 7.37|  5.53|         Ontario|Computer Peripherals|\n",
            "|\"Imation 3.5\"\" DS...| 10/Pack\"|    Darren Budd|48003|         -106.54| 5.98|  4.38|         Ontario|Computer Peripherals|\n",
            "|\"Imation 3.5\"\" IB...| 10/Pack\"| Janet Molinari|11173|          -95.17| 5.98|  3.85|         Ontario|Computer Peripherals|\n",
            "|\"Maxell 3.5\"\" DS/...| 10/Pack\"|  Filia McAdams| 5986|         -148.77| 4.89|  4.93|         Ontario|Computer Peripherals|\n",
            "|\"Imation Primaris...| 10/Pack\"| Bill Donatelli|13345|          -42.05| 4.77|  2.39|         Ontario|Computer Peripherals|\n",
            "|\"Imation 3.5\"\" DS...| 10/Pack\"|     Don Miller| 2277|          -46.03| 5.98|  4.38|         Nunavut|Computer Peripherals|\n",
            "|\"Maxell 3.5\"\" DS/...| 10/Pack\"|Patrick O'Brill|55268|          -47.83| 4.89|  4.93|     Nova Scotia|Computer Peripherals|\n",
            "|\"Imation 3.5\"\" DS...| 10/Pack\"|Kimberly Carter| 9860|          -73.66| 7.28|  3.52|British Columbia|Computer Peripherals|\n",
            "|\"Imation 3.5\"\" DS...| 10/Pack\"|Shahid Shariari| 4642|          -39.74| 7.28|  3.52|British Columbia|Computer Peripherals|\n",
            "|\"Maxell 3.5\"\" DS/...| 10/Pack\"|   Sean Braxton|46852|         -158.42| 4.89|  4.93|        Manitoba|Computer Peripherals|\n",
            "|\"Maxell 3.5\"\" DS/...| 10/Pack\"|Benjamin Farhat| 8132|         -165.45| 4.89|  4.93|           Yukon|Computer Peripherals|\n",
            "|\"Maxell 3.5\"\" DS/...| 10/Pack\"|    Carl Ludwig| 1539|         -144.55| 4.89|  4.93|         Nunavut|Computer Peripherals|\n",
            "|\"Imation Primaris...| 10/Pack\"|    David Smith|59075|          -25.31| 4.77|  2.39|     Nova Scotia|Computer Peripherals|\n",
            "|\"Maxell 3.5\"\" DS/...| 10/Pack\"|   Peter Buhler| 7840|         -139.35| 4.89|  4.93|           Yukon|Computer Peripherals|\n",
            "|\"Maxell 3.5\"\" DS/...| 10/Pack\"|    Ivan Gibson|25638|         -108.55| 4.89|  4.93|        Manitoba|Computer Peripherals|\n",
            "+--------------------+---------+---------------+-----+----------------+-----+------+----------------+--------------------+\n",
            "only showing top 20 rows\n",
            "\n"
          ]
        }
      ],
      "source": [
        "renamed_df.sort(renamed_df.name).show()"
      ]
    },
    {
      "cell_type": "markdown",
      "metadata": {
        "id": "ylqg2zvqrg6N"
      },
      "source": [
        "**Question 20:\tSort based on Index in reverse order**"
      ]
    },
    {
      "cell_type": "code",
      "execution_count": 43,
      "metadata": {
        "colab": {
          "base_uri": "https://localhost:8080/"
        },
        "id": "xpMnjs_LrWI5",
        "outputId": "8c7f35d8-8fdb-4a45-fd5a-6796f422584e"
      },
      "outputs": [
        {
          "name": "stdout",
          "output_type": "stream",
          "text": [
            "+--------------------+--------------------+---------------+-----------------+----------------+-------+------+--------------+----------------+\n",
            "|             details|                name|             id|            index|normalised_index|  value|source|classification|      percentage|\n",
            "+--------------------+--------------------+---------------+-----------------+----------------+-------+------+--------------+----------------+\n",
            "|        Imation 3.5\"| DISKETTE 44766 H...|       10/Pack\"| Valerie Takahito|           38817| -18.03|  4.98|          4.62|         Alberta|\n",
            "|\"Message Book, St...|       5 1/2\"\" X 4\"\"| 200 Sets/Book\"| Valerie Takahito|           19361| -14.28|  8.56|          5.16|        Manitoba|\n",
            "|\"Avery Trapezoid ...|               Black|   1040 sheets\"|     Tracy Poddar|           39238| 112.06| 40.98|          2.99|          Quebec|\n",
            "|        Imation 3.5\"| DISKETTE 44766 H...|       10/Pack\"|      Tim Taslimi|           47201|  -60.9|  4.98|          4.62|British Columbia|\n",
            "|        Imation 3.5\"| RTS 247544 3M 3....|       10/Pack\"|    Sanjit Jacobs|           31907| -35.97|  8.46|          3.62|          Quebec|\n",
            "|        Imation 3.5\"| DISKETTE 44766 H...|       10/Pack\"|    Phillina Ober|           48385|  -56.6|  4.98|          4.62|         Alberta|\n",
            "|        Imation 3.5\"| DISKETTE 44766 H...|       10/Pack\"|     Peter Buhler|           54947| -98.35|  4.98|          4.62|British Columbia|\n",
            "|\"Message Book, St...|       5 1/2\"\" X 4\"\"| 200 Sets/Book\"|  Penelope Sewall|           33479|  -8.82|  8.56|          5.16|         Alberta|\n",
            "|        Imation 3.5\"| RTS 247544 3M 3....|       10/Pack\"|    Mick Crebagga|           46949| -39.33|  8.46|          3.62|        Manitoba|\n",
            "|        Imation 3.5\"| DISKETTE 44766 H...|       10/Pack\"|  Michael Stewart|           36033| -54.01|  4.98|          4.62|British Columbia|\n",
            "|        Imation 3.5\"| RTS 247544 3M 3....|       10/Pack\"|Michael Dominguez|           26244| -42.61|  8.46|          3.62|         Ontario|\n",
            "|        Imation 3.5\"| DISKETTE 44766 H...|       10/Pack\"|  Liz MacKendrick|           47271|-142.02|  4.98|          4.62|   New Brunswick|\n",
            "|        Imation 3.5\"| RTS 247544 3M 3....|       10/Pack\"|  Liz MacKendrick|           58273| -61.14|  8.46|          3.62|   New Brunswick|\n",
            "|        Imation 3.5\"| RTS 247544 3M 3....|       10/Pack\"|     Lena Radford|           32323| -31.43|  8.46|          3.62|         Ontario|\n",
            "|\"Avery Trapezoid ...|               Black|   1040 sheets\"|   Karen Carlisle|             900| 507.58| 40.98|          2.99|     Nova Scotia|\n",
            "|        Imation 3.5\"| RTS 247544 3M 3....|       10/Pack\"|   Joni Blumstein|           25697|  -37.5|  8.46|          3.62|         Ontario|\n",
            "|        Imation 3.5\"| DISKETTE 44766 H...|       10/Pack\"|  Helen Wasserman|           57572|-120.04|  4.98|          4.62|         Alberta|\n",
            "|\"Message Book, St...|       5 1/2\"\" X 4\"\"| 200 Sets/Book\"|   Helen Andreada|           51493|   8.34|  8.56|          5.16|British Columbia|\n",
            "|        Imation 3.5\"| RTS 247544 3M 3....|       10/Pack\"|    Grant Carroll|           57447|  -60.4|  8.46|          3.62|         Ontario|\n",
            "|        Imation 3.5\"| DISKETTE 44766 H...|       10/Pack\"|      Erica Smith|           55874|-111.72|  4.98|          4.62|         Ontario|\n",
            "+--------------------+--------------------+---------------+-----------------+----------------+-------+------+--------------+----------------+\n",
            "only showing top 20 rows\n",
            "\n"
          ]
        }
      ],
      "source": [
        "renamed_df.sort(renamed_df.index.desc()).show()"
      ]
    },
    {
      "cell_type": "markdown",
      "metadata": {
        "id": "VhvO7VGtr8Tj"
      },
      "source": [
        "**Question 21:\tSort by Name and 'NormalisedIndex'**"
      ]
    },
    {
      "cell_type": "code",
      "execution_count": 44,
      "metadata": {
        "colab": {
          "base_uri": "https://localhost:8080/"
        },
        "id": "mvmCHxv7r2er",
        "outputId": "519ccf2d-b5f2-4be9-9bd2-94c96352b05c"
      },
      "outputs": [
        {
          "name": "stdout",
          "output_type": "stream",
          "text": [
            "+--------------------+---------+--------------------+-----+----------------+-----+------+----------------+--------------------+\n",
            "|             details|     name|                  id|index|normalised_index|value|source|  classification|          percentage|\n",
            "+--------------------+---------+--------------------+-----+----------------+-----+------+----------------+--------------------+\n",
            "|\"Imation 3.5\"\" Un...|  10/Box\"|          Ken Heidel|52868|         -100.49| 7.37|  5.53|        Manitoba|Computer Peripherals|\n",
            "|\"Imation 3.5\"\" Un...|  10/Box\"|        Joseph Airdo|32198|         -117.92| 7.37|  5.53|         Ontario|Computer Peripherals|\n",
            "|\"Imation 3.5\"\" Un...|  10/Box\"|         Anna Gayman| 5572|          -133.7| 7.37|  5.53|         Ontario|Computer Peripherals|\n",
            "|\"Imation 3.5\"\" Un...|  10/Box\"|        Larry Blacks|49504|          -195.6| 7.37|  5.53|     Saskachewan|Computer Peripherals|\n",
            "|\"Imation 3.5\"\" Un...|  10/Box\"|          Karen Bern|49319|          -68.66| 7.37|  5.53|     Saskachewan|Computer Peripherals|\n",
            "|\"Imation 3.5\"\" Un...|  10/Box\"|       Duane Huffman|34244|          -89.56| 7.37|  5.53|         Ontario|Computer Peripherals|\n",
            "|\"Imation 3.5\"\" DS...| 10/Pack\"|       Evan Bailliet|27460|         -102.16| 5.98|  4.38|        Manitoba|Computer Peripherals|\n",
            "|\"Imation 3.5\"\" DS...| 10/Pack\"|      Joni Wasserman|55616|         -102.25| 5.98|  4.38|     Nova Scotia|Computer Peripherals|\n",
            "|\"Imation 3.5\"\" DS...| 10/Pack\"|         Darren Budd|48003|         -106.54| 5.98|  4.38|         Ontario|Computer Peripherals|\n",
            "|\"Maxell 3.5\"\" DS/...| 10/Pack\"|         Ivan Gibson|25638|         -108.55| 4.89|  4.93|        Manitoba|Computer Peripherals|\n",
            "|\"Maxell 3.5\"\" DS/...| 10/Pack\"|      Craig Molinari|10053|         -109.86| 4.89|  4.93|     Saskachewan|Computer Peripherals|\n",
            "|\"Imation 3.5\"\" DS...| 10/Pack\"|        Craig Yedwab|22820|         -116.21| 5.98|  4.38|         Ontario|Computer Peripherals|\n",
            "|\"Maxell 3.5\"\" DS/...| 10/Pack\"|        Peter Buhler| 7840|         -139.35| 4.89|  4.93|           Yukon|Computer Peripherals|\n",
            "|\"Maxell 3.5\"\" DS/...| 10/Pack\"|         Carl Ludwig| 1539|         -144.55| 4.89|  4.93|         Nunavut|Computer Peripherals|\n",
            "|\"Maxell 3.5\"\" DS/...| 10/Pack\"|       Filia McAdams| 5986|         -148.77| 4.89|  4.93|         Ontario|Computer Peripherals|\n",
            "|\"Maxell 3.5\"\" DS/...| 10/Pack\"|        Sean Braxton|46852|         -158.42| 4.89|  4.93|        Manitoba|Computer Peripherals|\n",
            "|\"Maxell 3.5\"\" DS/...| 10/Pack\"|     Benjamin Farhat| 8132|         -165.45| 4.89|  4.93|           Yukon|Computer Peripherals|\n",
            "|\"Avery� 3 1/2\"\" D...| 10/Pack\"|        Sue Ann Reed|46305|          -18.25|10.44|  5.75|        Manitoba|Binders and Binde...|\n",
            "|\"Avery� 3 1/2\"\" D...| 10/Pack\"|       Keith Dawkins|30214|          -21.26|10.44|  5.75|        Manitoba|Binders and Binde...|\n",
            "|\"Imation Primaris...| 10/Pack\"|Christopher Martinez|52675|          -22.13| 4.77|  2.39|British Columbia|Computer Peripherals|\n",
            "+--------------------+---------+--------------------+-----+----------------+-----+------+----------------+--------------------+\n",
            "only showing top 20 rows\n",
            "\n"
          ]
        }
      ],
      "source": [
        "renamed_df.sort([\"name\", \"normalised_index\"]).show()"
      ]
    },
    {
      "cell_type": "markdown",
      "metadata": {
        "id": "lp1uoReyubFD"
      },
      "source": [
        "**Question 22:\tCounts of each classifications (in first 20 entries)**"
      ]
    },
    {
      "cell_type": "markdown",
      "metadata": {
        "id": "QITH1KNyK4R0"
      },
      "source": [
        "Similar to SQL GROUP BY clause, PySpark [groupBy() function](https://sparkbyexamples.com/pyspark/pyspark-groupby-explained-with-example/) is used to collect the identical data into groups on DataFrame and perform count, sum, avg, min, max functions on the grouped data."
      ]
    },
    {
      "cell_type": "code",
      "execution_count": 45,
      "metadata": {
        "colab": {
          "base_uri": "https://localhost:8080/"
        },
        "id": "6OXP5MghsNxJ",
        "outputId": "0f0d0848-fc81-4aea-f7d0-c05cfd97fb50"
      },
      "outputs": [
        {
          "name": "stdout",
          "output_type": "stream",
          "text": [
            "+--------------------+-----+\n",
            "|      classification|count|\n",
            "+--------------------+-----+\n",
            "|           Envelopes|  230|\n",
            "|            Manitoba|   26|\n",
            "|                2.99|    5|\n",
            "|               Yukon|    9|\n",
            "|        Rubber Bands|  179|\n",
            "|  Chairs & Chairmats|  386|\n",
            "|         Nova Scotia|   11|\n",
            "|Northwest Territo...|   12|\n",
            "|                3.62|   10|\n",
            "|             Alberta|   21|\n",
            "|                5.16|    3|\n",
            "|             Nunavut|    4|\n",
            "|        Newfoundland|    2|\n",
            "|Scissors, Rulers ...|  128|\n",
            "|     Copiers and Fax|   87|\n",
            "|       New Brunswick|   12|\n",
            "|           Bookcases|  189|\n",
            "|         Saskachewan|   28|\n",
            "|               99.23|    9|\n",
            "|Prince Edward Island|    9|\n",
            "+--------------------+-----+\n",
            "only showing top 20 rows\n",
            "\n"
          ]
        }
      ],
      "source": [
        "renamed_df.groupBy(\"classification\").count().show()"
      ]
    },
    {
      "cell_type": "markdown",
      "metadata": {
        "id": "DPeqbn2Yvwni"
      },
      "source": [
        "**Question 23:\tSum of values, classification wise**"
      ]
    },
    {
      "cell_type": "markdown",
      "metadata": {
        "id": "n0rfBGUsLFwj"
      },
      "source": [
        "Some of the datatype of columns are in StringType. In order to apply mathematical operations, we will type cast it."
      ]
    },
    {
      "cell_type": "code",
      "execution_count": 46,
      "metadata": {
        "colab": {
          "base_uri": "https://localhost:8080/"
        },
        "id": "kEGsr-8CxVT8",
        "outputId": "da9c4749-c891-42c4-f409-4f445ca5fe62"
      },
      "outputs": [
        {
          "name": "stdout",
          "output_type": "stream",
          "text": [
            "+--------------------+-------------------+-------------+--------+----------------+-----+--------------------+--------------------+----------+\n",
            "|             details|               name|           id|   index|normalised_index|value|              source|      classification|percentage|\n",
            "+--------------------+-------------------+-------------+--------+----------------+-----+--------------------+--------------------+----------+\n",
            "|Global Stack Chai...|    Cari Schnelling|        20071| -190.41|           25.98|14.36|Northwest Territo...|  Chairs & Chairmats|       0.6|\n",
            "|GBC Prepunched Pa...|   Jennifer Braxton|        40835|   -8.08|           15.01|  8.4|Prince Edward Island|Binders and Binde...|      0.39|\n",
            "|Office Star - Tas...|       Rob Haberlin|         2279|  205.83|           90.98| 30.0|    British Columbia|  Chairs & Chairmats|      0.61|\n",
            "|Eldon Expressions...|      Justin Knight|        38565|  -11.69|           10.64| 5.16|    British Columbia|  Office Furnishings|      0.57|\n",
            "|Panasonic KX-P320...|       Mark Cousins|        28389|  322.66|          297.48|18.06|    British Columbia|     Office Machines|       0.6|\n",
            "|          Xerox 1949|     Shahid Hopkins|        40134|   -6.72|            4.98| 4.72|    British Columbia|               Paper|      0.36|\n",
            "|Hon Deluxe Fabric...|       Greg Maxwell|        47527| 3064.51|          243.98|43.32|         Nova Scotia|  Chairs & Chairmats|      0.55|\n",
            "|          Newell 340|        Neil Ducich|        36099|    5.72|            2.88|  0.7|    British Columbia| Pens & Art Supplies|      0.56|\n",
            "|          Accessory6|       Roland Black|        45249|    -127|           55.99|  5.0|            Manitoba|Telephones and Co...|       0.8|\n",
            "|DIXON Oriole� Pen...|       Chad Sievert|        50048|   -9.19|            2.58|  1.3|            Manitoba| Pens & Art Supplies|      0.59|\n",
            "|          Xerox 1891|         Paul Prost|        24903|  743.59|           48.91| 5.81|             Ontario|               Paper|      0.38|\n",
            "|\"\"\"While you Were...| One Form per Page\"|Tamara Dahlen|    8710|            8.33| 3.71|                1.93|             Ontario|     Paper|\n",
            "|Okidata ML591 Wid...|       Bill Stewart|        17187|-1890.33|          810.98|16.06|             Ontario|     Office Machines|      0.56|\n",
            "|\"Avery� Durable P...|       Allen Golden|        22434|  -14.69|            4.54| 5.83|             Ontario|Binders and Binde...|      0.36|\n",
            "|Peel-Off� China M...|         Alan Hwang|        34211|   36.23|            9.93| 1.09|             Ontario| Pens & Art Supplies|      0.43|\n",
            "|Master Giant Foot...|  Eugene Hildebrand|        52999|   22.85|            7.59|  4.0|             Ontario|  Office Furnishings|      0.42|\n",
            "|Global Deluxe Off...|          Ann Blume|         7751| -768.14|           95.98| 58.2|         Nova Scotia|  Chairs & Chairmats|      0.58|\n",
            "| 600 Series Non-Flip|      Ellis Ballard|        20900|   483.6|           45.99| 4.99|              Quebec|Telephones and Co...|      0.57|\n",
            "|Hon 2111 Invitati...|     Joni Wasserman|        55239| -505.98|          209.37| 69.0|              Quebec|              Tables|      0.79|\n",
            "|\"Barricks 18\"\" x ...|         Karl Brown|         1191|  -243.6|           100.8| 60.0|              Quebec|              Tables|      0.59|\n",
            "+--------------------+-------------------+-------------+--------+----------------+-----+--------------------+--------------------+----------+\n",
            "only showing top 20 rows\n",
            "\n"
          ]
        }
      ],
      "source": [
        "from pyspark.sql.types import DoubleType\n",
        "renamed_df_new = renamed_df.withColumn(\"value\", renamed_df[\"value\"].cast(DoubleType()))\n",
        "renamed_df_new.show()"
      ]
    },
    {
      "cell_type": "markdown",
      "metadata": {
        "id": "kvIIfG9KLcH5"
      },
      "source": [
        "PySpark [sum() funtion](https://sparkbyexamples.com/pyspark/pyspark-sum/) is an aggregate function that returns the SUM of selected columns, This function should be used on a numeric column. The sum of a column is also referred to as the total values of a column.    \n",
        "\n",
        "We are often required to [create aliases](https://sparkbyexamples.com/pyspark/pyspark-alias-column-examples/) for several reasons, one of them would be to specify user understandable names for coded names. For example, if you have fname, you may want to use first_name. "
      ]
    },
    {
      "cell_type": "code",
      "execution_count": 47,
      "metadata": {
        "colab": {
          "base_uri": "https://localhost:8080/"
        },
        "id": "BWQ-YI4TunB1",
        "outputId": "4cb43b22-9f7c-4857-fa4a-60b39da2bf66"
      },
      "outputs": [
        {
          "name": "stdout",
          "output_type": "stream",
          "text": [
            "+--------------------+-------------------+\n",
            "|      classification|         sum(value)|\n",
            "+--------------------+-------------------+\n",
            "|           Envelopes|            1508.48|\n",
            "|            Manitoba| 394.18999999999994|\n",
            "|                2.99|            1905.94|\n",
            "|               Yukon|             105.43|\n",
            "|        Rubber Bands| 225.21000000000004|\n",
            "|  Chairs & Chairmats| 15512.689999999991|\n",
            "|         Nova Scotia|             181.84|\n",
            "|Northwest Territo...|             222.57|\n",
            "|                3.62|            -463.33|\n",
            "|             Alberta| 504.47999999999996|\n",
            "|                5.16|-14.760000000000002|\n",
            "|             Nunavut| 47.730000000000004|\n",
            "|        Newfoundland|              17.06|\n",
            "|Scissors, Rulers ...|  549.9299999999998|\n",
            "|     Copiers and Fax| 2446.8800000000006|\n",
            "|       New Brunswick|              242.5|\n",
            "|           Bookcases|            8646.07|\n",
            "|         Saskachewan| 396.84999999999997|\n",
            "|               99.23|           279271.0|\n",
            "|Prince Edward Island|             427.35|\n",
            "+--------------------+-------------------+\n",
            "only showing top 20 rows\n",
            "\n"
          ]
        }
      ],
      "source": [
        "renamed_df_new.groupBy(\"classification\").sum(\"value\").alias(\"sum_value\").show()"
      ]
    },
    {
      "cell_type": "markdown",
      "metadata": {
        "id": "DJwYfplBx266"
      },
      "source": [
        "**Question 24:\tMinimum of Index, classification wise**"
      ]
    },
    {
      "cell_type": "code",
      "execution_count": 48,
      "metadata": {
        "id": "XS4nswvkv-jR"
      },
      "outputs": [],
      "source": [
        "from pyspark.sql.types import DoubleType\n",
        "renamed_df_new = renamed_df_new.withColumn(\"index\", renamed_df_new[\"index\"].cast(DoubleType()))"
      ]
    },
    {
      "cell_type": "code",
      "execution_count": 49,
      "metadata": {
        "colab": {
          "base_uri": "https://localhost:8080/"
        },
        "id": "Hlmls4RPyIGj",
        "outputId": "c64a7343-7d7d-426d-c813-2cb30b81b86b"
      },
      "outputs": [
        {
          "name": "stdout",
          "output_type": "stream",
          "text": [
            "+--------------------+----------+\n",
            "|      classification|min(index)|\n",
            "+--------------------+----------+\n",
            "|           Envelopes|    -201.6|\n",
            "|            Manitoba|    3749.0|\n",
            "|                2.99|      null|\n",
            "|               Yukon|    4099.0|\n",
            "|        Rubber Bands|    -107.0|\n",
            "|  Chairs & Chairmats|  -3404.24|\n",
            "|         Nova Scotia|    6179.0|\n",
            "|Northwest Territo...|   10022.0|\n",
            "|                3.62|      null|\n",
            "|               51.18|      null|\n",
            "|                5.16|      null|\n",
            "|             Alberta|    6310.0|\n",
            "|             Nunavut|    1539.0|\n",
            "|        Newfoundland|   23078.0|\n",
            "|Scissors, Rulers ...|  -1759.58|\n",
            "|     Copiers and Fax| -11861.46|\n",
            "|       New Brunswick|    8933.0|\n",
            "|           Bookcases|  -11053.6|\n",
            "|               99.23|      null|\n",
            "|         Saskachewan|    4737.0|\n",
            "+--------------------+----------+\n",
            "only showing top 20 rows\n",
            "\n"
          ]
        }
      ],
      "source": [
        "renamed_df_new.groupBy(\"classification\").min(\"index\").show()"
      ]
    },
    {
      "cell_type": "markdown",
      "metadata": {
        "id": "jgnOa63oySqF"
      },
      "source": [
        "**Question 25:\tMaximum of NormalisedIndex, classification wise**"
      ]
    },
    {
      "cell_type": "code",
      "execution_count": 50,
      "metadata": {
        "id": "RAdBmqXXyOif"
      },
      "outputs": [],
      "source": [
        "from pyspark.sql.types import DoubleType\n",
        "renamed_df_new = renamed_df_new.withColumn(\"normalised_index\", renamed_df_new[\"normalised_index\"].cast(DoubleType()))"
      ]
    },
    {
      "cell_type": "code",
      "execution_count": 51,
      "metadata": {
        "colab": {
          "base_uri": "https://localhost:8080/"
        },
        "id": "OP7mjjtryngC",
        "outputId": "1d8cc5ed-0345-4be2-823d-3de7ae513ee4"
      },
      "outputs": [
        {
          "name": "stdout",
          "output_type": "stream",
          "text": [
            "+--------------------+---------------------+\n",
            "|      classification|max(normalised_index)|\n",
            "+--------------------+---------------------+\n",
            "|           Envelopes|               162.93|\n",
            "|            Manitoba|               624.64|\n",
            "|                2.99|              43781.0|\n",
            "|               Yukon|                98.02|\n",
            "|        Rubber Bands|                 7.89|\n",
            "|  Chairs & Chairmats|               500.98|\n",
            "|         Nova Scotia|                278.6|\n",
            "|Northwest Territo...|               950.68|\n",
            "|                3.62|              58273.0|\n",
            "|               51.18|                 null|\n",
            "|                5.16|              51493.0|\n",
            "|             Alberta|               768.34|\n",
            "|             Nunavut|               118.94|\n",
            "|        Newfoundland|                -15.9|\n",
            "|Scissors, Rulers ...|              1637.53|\n",
            "|     Copiers and Fax|              3499.99|\n",
            "|       New Brunswick|               664.15|\n",
            "|           Bookcases|               880.98|\n",
            "|               99.23|                 null|\n",
            "|         Saskachewan|               875.45|\n",
            "+--------------------+---------------------+\n",
            "only showing top 20 rows\n",
            "\n"
          ]
        }
      ],
      "source": [
        "renamed_df_new.groupBy(\"classification\").max(\"normalised_index\").show()"
      ]
    },
    {
      "cell_type": "markdown",
      "metadata": {
        "id": "d8ro8TWNyyVe"
      },
      "source": [
        "**Question 26:\tAverage of percentage, classification wise**"
      ]
    },
    {
      "cell_type": "code",
      "execution_count": 52,
      "metadata": {
        "id": "i-hycHGWythq"
      },
      "outputs": [],
      "source": [
        "from pyspark.sql.types import DoubleType\n",
        "renamed_df_new = renamed_df_new.withColumn(\"percentage\", renamed_df_new[\"percentage\"].cast(DoubleType()))"
      ]
    },
    {
      "cell_type": "code",
      "execution_count": 53,
      "metadata": {
        "colab": {
          "base_uri": "https://localhost:8080/"
        },
        "id": "Xt1P4jNAz33M",
        "outputId": "03355325-7db1-4f00-8f42-3a39bdfe64d0"
      },
      "outputs": [
        {
          "name": "stdout",
          "output_type": "stream",
          "text": [
            "+--------------------+----------+-----+\n",
            "|      classification|percentage|count|\n",
            "+--------------------+----------+-----+\n",
            "|          Appliances|      0.52|   30|\n",
            "|Computer Peripherals|      0.37|   12|\n",
            "|            Manitoba|      null|   26|\n",
            "|     Office Machines|      0.52|    8|\n",
            "|     Copiers and Fax|      0.36|   11|\n",
            "|Binders and Binde...|      0.38|  206|\n",
            "|     Copiers and Fax|       0.4|    1|\n",
            "|  Office Furnishings|      0.75|    3|\n",
            "|              Tables|      0.71|   27|\n",
            "|Telephones and Co...|      0.38|   12|\n",
            "|  Chairs & Chairmats|      0.71|    5|\n",
            "|Computer Peripherals|      0.65|   16|\n",
            "|        Rubber Bands|      0.37|   15|\n",
            "|Telephones and Co...|      0.81|   18|\n",
            "|Binders and Binde...|      0.39|  148|\n",
            "|  Chairs & Chairmats|       0.7|    6|\n",
            "|     Copiers and Fax|      0.46|    9|\n",
            "|                2.99|      null|    5|\n",
            "|              Tables|      0.79|   15|\n",
            "|  Office Furnishings|      0.56|   12|\n",
            "+--------------------+----------+-----+\n",
            "only showing top 20 rows\n",
            "\n"
          ]
        }
      ],
      "source": [
        "renamed_df_new.groupBy([\"classification\", \"percentage\"]).count().show()"
      ]
    },
    {
      "cell_type": "code",
      "execution_count": 54,
      "metadata": {
        "colab": {
          "base_uri": "https://localhost:8080/"
        },
        "id": "uMNrWSdTzEq5",
        "outputId": "5428b981-8adb-4917-800e-6e0b943c3525"
      },
      "outputs": [
        {
          "name": "stdout",
          "output_type": "stream",
          "text": [
            "+--------------------+-------------------+\n",
            "|      classification|    avg(percentage)|\n",
            "+--------------------+-------------------+\n",
            "|           Envelopes|0.37391304347826104|\n",
            "|            Manitoba|               null|\n",
            "|                2.99|               null|\n",
            "|               Yukon|               null|\n",
            "|        Rubber Bands| 0.5315083798882682|\n",
            "|  Chairs & Chairmats| 0.6346111111111105|\n",
            "|         Nova Scotia|               null|\n",
            "|Northwest Territo...|               null|\n",
            "|                3.62|               null|\n",
            "|             Alberta|               null|\n",
            "|                5.16|               null|\n",
            "|             Nunavut|               null|\n",
            "|        Newfoundland|               null|\n",
            "|Scissors, Rulers ...| 0.6489843750000002|\n",
            "|     Copiers and Fax| 0.4180459770114943|\n",
            "|       New Brunswick|               null|\n",
            "|           Bookcases| 0.6599459459459458|\n",
            "|         Saskachewan|               null|\n",
            "|               99.23|               8.99|\n",
            "|Prince Edward Island|               null|\n",
            "+--------------------+-------------------+\n",
            "only showing top 20 rows\n",
            "\n"
          ]
        }
      ],
      "source": [
        "renamed_df_new.groupBy(\"classification\").avg(\"percentage\").show()"
      ]
    },
    {
      "cell_type": "code",
      "execution_count": 55,
      "metadata": {
        "colab": {
          "base_uri": "https://localhost:8080/"
        },
        "id": "3ncgkKfS0Paf",
        "outputId": "2eb0e055-6ca0-40ca-c902-37fe9912cbaa"
      },
      "outputs": [
        {
          "name": "stdout",
          "output_type": "stream",
          "text": [
            "+--------------------+-------------------+\n",
            "|      classification|    avg(percentage)|\n",
            "+--------------------+-------------------+\n",
            "|           Envelopes|0.37391304347826104|\n",
            "|        Rubber Bands| 0.5315083798882682|\n",
            "|  Chairs & Chairmats| 0.6346111111111105|\n",
            "|Scissors, Rulers ...| 0.6489843750000002|\n",
            "|     Copiers and Fax| 0.4180459770114943|\n",
            "|           Bookcases| 0.6599459459459458|\n",
            "|               99.23|               8.99|\n",
            "| Pens & Art Supplies| 0.5335860979462881|\n",
            "|              Labels| 0.3771180555555556|\n",
            "|Computer Peripherals| 0.5849339207048461|\n",
            "|               Paper|0.37467543859649305|\n",
            "|          Appliances| 0.5544700460829489|\n",
            "|              Tables| 0.6931518624641833|\n",
            "|  Office Furnishings| 0.5250800000000002|\n",
            "|     Office Machines|0.44436201780415446|\n",
            "|Storage & Organiz...| 0.6643785850860421|\n",
            "|Telephones and Co...|  0.580951302378257|\n",
            "|Binders and Binde...|0.37488940628637907|\n",
            "|               51.18|              31.11|\n",
            "|               64.13|              31.11|\n",
            "|              258.25|              31.11|\n",
            "+--------------------+-------------------+\n",
            "\n"
          ]
        }
      ],
      "source": [
        "renamed_df_new.filter(renamed_df_new.percentage.isNotNull()) \\\n",
        "              .groupBy(\"classification\").avg(\"percentage\").show(50)"
      ]
    },
    {
      "cell_type": "markdown",
      "metadata": {
        "id": "6PveXnIcy1Ed"
      },
      "source": [
        "**Question 27:\tScale percentage by 100**"
      ]
    },
    {
      "cell_type": "code",
      "execution_count": 56,
      "metadata": {
        "colab": {
          "base_uri": "https://localhost:8080/"
        },
        "id": "pQzTt312y2_6",
        "outputId": "48095c3b-8d2d-4a23-eae8-fab8f8dfc0c2"
      },
      "outputs": [
        {
          "name": "stdout",
          "output_type": "stream",
          "text": [
            "+--------------------+-------------------+-------------+--------+----------------+-----+--------------------+--------------------+-----------------+\n",
            "|             details|               name|           id|   index|normalised_index|value|              source|      classification|       percentage|\n",
            "+--------------------+-------------------+-------------+--------+----------------+-----+--------------------+--------------------+-----------------+\n",
            "|Global Stack Chai...|    Cari Schnelling|        20071| -190.41|           25.98|14.36|Northwest Territo...|  Chairs & Chairmats|             60.0|\n",
            "|GBC Prepunched Pa...|   Jennifer Braxton|        40835|   -8.08|           15.01|  8.4|Prince Edward Island|Binders and Binde...|             39.0|\n",
            "|Office Star - Tas...|       Rob Haberlin|         2279|  205.83|           90.98| 30.0|    British Columbia|  Chairs & Chairmats|             61.0|\n",
            "|Eldon Expressions...|      Justin Knight|        38565|  -11.69|           10.64| 5.16|    British Columbia|  Office Furnishings|56.99999999999999|\n",
            "|Panasonic KX-P320...|       Mark Cousins|        28389|  322.66|          297.48|18.06|    British Columbia|     Office Machines|             60.0|\n",
            "|          Xerox 1949|     Shahid Hopkins|        40134|   -6.72|            4.98| 4.72|    British Columbia|               Paper|             36.0|\n",
            "|Hon Deluxe Fabric...|       Greg Maxwell|        47527| 3064.51|          243.98|43.32|         Nova Scotia|  Chairs & Chairmats|55.00000000000001|\n",
            "|          Newell 340|        Neil Ducich|        36099|    5.72|            2.88|  0.7|    British Columbia| Pens & Art Supplies|56.00000000000001|\n",
            "|          Accessory6|       Roland Black|        45249|  -127.0|           55.99|  5.0|            Manitoba|Telephones and Co...|             80.0|\n",
            "|DIXON Oriole� Pen...|       Chad Sievert|        50048|   -9.19|            2.58|  1.3|            Manitoba| Pens & Art Supplies|             59.0|\n",
            "|          Xerox 1891|         Paul Prost|        24903|  743.59|           48.91| 5.81|             Ontario|               Paper|             38.0|\n",
            "|\"\"\"While you Were...| One Form per Page\"|Tamara Dahlen|  8710.0|            8.33| 3.71|                1.93|             Ontario|             null|\n",
            "|Okidata ML591 Wid...|       Bill Stewart|        17187|-1890.33|          810.98|16.06|             Ontario|     Office Machines|56.00000000000001|\n",
            "|\"Avery� Durable P...|       Allen Golden|        22434|  -14.69|            4.54| 5.83|             Ontario|Binders and Binde...|             36.0|\n",
            "|Peel-Off� China M...|         Alan Hwang|        34211|   36.23|            9.93| 1.09|             Ontario| Pens & Art Supplies|             43.0|\n",
            "|Master Giant Foot...|  Eugene Hildebrand|        52999|   22.85|            7.59|  4.0|             Ontario|  Office Furnishings|             42.0|\n",
            "|Global Deluxe Off...|          Ann Blume|         7751| -768.14|           95.98| 58.2|         Nova Scotia|  Chairs & Chairmats|57.99999999999999|\n",
            "| 600 Series Non-Flip|      Ellis Ballard|        20900|   483.6|           45.99| 4.99|              Quebec|Telephones and Co...|56.99999999999999|\n",
            "|Hon 2111 Invitati...|     Joni Wasserman|        55239| -505.98|          209.37| 69.0|              Quebec|              Tables|             79.0|\n",
            "|\"Barricks 18\"\" x ...|         Karl Brown|         1191|  -243.6|           100.8| 60.0|              Quebec|              Tables|             59.0|\n",
            "+--------------------+-------------------+-------------+--------+----------------+-----+--------------------+--------------------+-----------------+\n",
            "only showing top 20 rows\n",
            "\n"
          ]
        }
      ],
      "source": [
        "renamed_df_new.withColumn(\"percentage\", renamed_df_new.percentage*100).show()"
      ]
    },
    {
      "cell_type": "code",
      "execution_count": null,
      "metadata": {
        "id": "N8oodoLoL-r8"
      },
      "outputs": [],
      "source": [
        "#THIS EMPTY CELL IS LEFT INTENTIONALLY"
      ]
    },
    {
      "cell_type": "markdown",
      "metadata": {
        "id": "9QiWdNhXL-Wl"
      },
      "source": [
        "\n",
        "\n",
        "---\n",
        "\n",
        "\n",
        "    \n",
        "    \n",
        "    Thank you. I hope this notebook helps you!"
      ]
    }
  ],
  "metadata": {
    "colab": {
      "provenance": []
    },
    "kernelspec": {
      "display_name": "Python 3",
      "language": "python",
      "name": "python3"
    },
    "language_info": {
      "codemirror_mode": {
        "name": "ipython",
        "version": 3
      },
      "file_extension": ".py",
      "mimetype": "text/x-python",
      "name": "python",
      "nbconvert_exporter": "python",
      "pygments_lexer": "ipython3",
      "version": "3.10.4"
    },
    "vscode": {
      "interpreter": {
        "hash": "3ad933181bd8a04b432d3370b9dc3b0662ad032c4dfaa4e4f1596c548f763858"
      }
    }
  },
  "nbformat": 4,
  "nbformat_minor": 0
}
